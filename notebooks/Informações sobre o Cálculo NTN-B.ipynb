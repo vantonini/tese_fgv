{
 "cells": [
  {
   "cell_type": "markdown",
   "metadata": {},
   "source": [
    "### Função para calcular o preço de uma NTN-B Principal\n",
    "\n",
    "O preço (Preço Unitário ou PU) do Tesouro IPCA+ (NTN-B Principal), assim como de qualquer outro título pós-fixado negociado no Tesouro Direto, é dado pela equação:\n",
    "\n",
    "\\begin{equation}\n",
    "Preço = VNA_{proj} * \\left[\\frac{Cotação}{100}\\right]\n",
    "\\end{equation}\n",
    "\n",
    "O VNA deve ser o projetado para o dia da liquidação da compra, dado que o indexador ao qual o papel está vinculado somente é conhecido ex post, sendo necessário, desta forma, fazer sua projeção ou utilizar uma calculada pelo mercado. Mas antes de projetá-lo, deve-se apurar sua variação até o mês anterior ao da liquidação da operação, que, por sua vez, já é conhecido:\n",
    "\n",
    "$$ VNA = R$ 1.000,00 * \\text{fator variação IPCA entre 15/07/2000 e o dia 15 do mês anterior} $$\n",
    "\n",
    "Voltando à projeção, \n",
    "\n",
    "$$ VNA_{proj} = VNA * (1 + IPCA_{projetado})^{x} $$\n",
    "\n",
    "onde:\n",
    "$$ x = \\frac{\\text{no. de dias corridos entre a data de liquidação e o dia 15 do mês atual}}{\\text{no. de dias corridos entre o dia 15 do mês seguinte e o dia 15 do mês atual}} $$\n",
    "\n",
    "Agora deve-se obter a cotação do papel, que reflete o ágio ou o deságio do título, dada pela seguinte relação:\n",
    "\n",
    "$$ \\text{Cotação} = \\frac{100}{(1 + \\text{TAXA})^{\\frac{du}{252}}} $$\n",
    "\n",
    "Retomando a equação original do preço do papel, tem-se:\n",
    "\n",
    "$$ \\text{Preço} = VNA_{proj} * \\left[\\frac{Cotação}{100}\\right] $$"
   ]
  },
  {
   "cell_type": "markdown",
   "metadata": {},
   "source": [
    "### Função para calcular uma NTN-B com Juros Semestrais\n",
    "\n",
    "$$ Cotação = \\left[\\frac{(1 + Cupom)^{0,5} - 1}{(1 + TIR)^{\\frac{DU1}{252}}}\\right] + \n",
    "             \\left[\\frac{(1 + Cupom)^{0,5} - 1}{(1 + TIR)^{\\frac{DU2}{252}}}\\right] +\n",
    "             \\cdots +\n",
    "             \\left[\\frac{(1 + Cupom)^{0,5} - 1}{(1 + TIR)^{\\frac{DUn}{252}}}\\right] +\n",
    "             \\left[\\frac{1}{(1 + TIR)^{\\frac{DUn}{252}}}\\right]$$\n",
    "             \n",
    "O Cupom da NTN-B é de $6\\%$ a.a.. Enquanto a TIR é a taxa pactuada no momento da compra do papel."
   ]
  },
  {
   "cell_type": "code",
   "execution_count": null,
   "metadata": {
    "collapsed": true
   },
   "outputs": [],
   "source": []
  }
 ],
 "metadata": {
  "kernelspec": {
   "display_name": "Python 3",
   "language": "python",
   "name": "python3"
  },
  "language_info": {
   "codemirror_mode": {
    "name": "ipython",
    "version": 3
   },
   "file_extension": ".py",
   "mimetype": "text/x-python",
   "name": "python",
   "nbconvert_exporter": "python",
   "pygments_lexer": "ipython3",
   "version": "3.6.3"
  }
 },
 "nbformat": 4,
 "nbformat_minor": 2
}
