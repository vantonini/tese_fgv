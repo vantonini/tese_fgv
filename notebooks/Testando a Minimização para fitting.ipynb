{
 "cells": [
  {
   "cell_type": "markdown",
   "metadata": {},
   "source": [
    "### references\n",
    "https://kogler.wordpress.com/2008/03/21/latex-multiline-equations-systems-and-matrices/ \n",
    "\n",
    "http://apmonitor.com/che263/index.php/Main/PythonSolveEquations\n",
    "\n",
    "http://janroman.dhis.org/finance/Bootstrap%20Yield-Fitting/Munk_Yield.pdf\n",
    "\n",
    "https://sisweb.tesouro.gov.br/apex/f?p=2031:2:0::::"
   ]
  },
  {
   "cell_type": "code",
   "execution_count": 1,
   "metadata": {
    "collapsed": true
   },
   "outputs": [],
   "source": [
    "import numpy as np"
   ]
  },
  {
   "cell_type": "code",
   "execution_count": 5,
   "metadata": {
    "collapsed": true
   },
   "outputs": [],
   "source": [
    "A = [90, 98]\n",
    "B = [[5, 105], [58, 54]]\n",
    "\n",
    "AM = np.matrix(A)\n",
    "BM = np.matrix(B)"
   ]
  },
  {
   "cell_type": "code",
   "execution_count": 18,
   "metadata": {},
   "outputs": [
    {
     "name": "stdout",
     "output_type": "stream",
     "text": [
      "[[90 98]]\n",
      "[[  5 105]\n",
      " [ 58  54]]\n"
     ]
    }
   ],
   "source": [
    "print(AM)\n",
    "print(BM)\n"
   ]
  },
  {
   "cell_type": "code",
   "execution_count": 15,
   "metadata": {},
   "outputs": [
    {
     "data": {
      "text/plain": [
       "matrix([[10740],\n",
       "        [10512]])"
      ]
     },
     "execution_count": 15,
     "metadata": {},
     "output_type": "execute_result"
    }
   ],
   "source": [
    "BM * AM.T"
   ]
  },
  {
   "cell_type": "code",
   "execution_count": 17,
   "metadata": {},
   "outputs": [
    {
     "name": "stdout",
     "output_type": "stream",
     "text": [
      "10740\n",
      "10512\n"
     ]
    }
   ],
   "source": [
    "# print((90 * 5) + (98 * 58))\n",
    "# print((90 * 105) +(98 * 54))\n",
    "print((5 * 90) + (105 * 98))\n",
    "print((58 * 90) + (54 * 98))"
   ]
  },
  {
   "cell_type": "code",
   "execution_count": 22,
   "metadata": {},
   "outputs": [
    {
     "name": "stdout",
     "output_type": "stream",
     "text": [
      "[ 6134 14742]\n",
      "[[ 6134 14742]]\n",
      "[10740 10512]\n",
      "[[10740]\n",
      " [10512]]\n"
     ]
    }
   ],
   "source": [
    "print(np.dot(A, B))\n",
    "print(AM*BM)\n",
    "\n",
    "print(np.dot(B, A))\n",
    "print(BM*AM.T)"
   ]
  },
  {
   "cell_type": "markdown",
   "metadata": {},
   "source": [
    "## How to use find the inverse of a matrix"
   ]
  },
  {
   "cell_type": "code",
   "execution_count": 25,
   "metadata": {},
   "outputs": [
    {
     "data": {
      "text/plain": [
       "matrix([[ 0.   ,  0.5  ],\n",
       "        [ 0.25 , -0.125]])"
      ]
     },
     "execution_count": 25,
     "metadata": {},
     "output_type": "execute_result"
    }
   ],
   "source": [
    "inverse = np.linalg.inv(A)\n",
    "inverse"
   ]
  },
  {
   "cell_type": "markdown",
   "metadata": {},
   "source": [
    "## How to find the <font color='red'>eigenvalues</font> of a matrix\n"
   ]
  },
  {
   "cell_type": "code",
   "execution_count": 26,
   "metadata": {
    "scrolled": true
   },
   "outputs": [
    {
     "data": {
      "text/plain": [
       "array([ 3.37228132, -2.37228132])"
      ]
     },
     "execution_count": 26,
     "metadata": {},
     "output_type": "execute_result"
    }
   ],
   "source": [
    "eigvals = np.linalg.eigvals(A)\n",
    "eigvals"
   ]
  },
  {
   "cell_type": "markdown",
   "metadata": {},
   "source": [
    "## How to find the associated <font color='red'>eigenvectors</font> of a matrix\n"
   ]
  },
  {
   "cell_type": "code",
   "execution_count": 28,
   "metadata": {},
   "outputs": [
    {
     "data": {
      "text/plain": [
       "(array([-1.56155281,  2.56155281]), matrix([[ 0.61541221, -0.78820544],\n",
       "         [-0.78820544, -0.61541221]]))"
      ]
     },
     "execution_count": 28,
     "metadata": {},
     "output_type": "execute_result"
    }
   ],
   "source": [
    "eigvec = np.linalg.eigh(A)\n",
    "eigvec"
   ]
  },
  {
   "cell_type": "markdown",
   "metadata": {},
   "source": [
    "## Singular Value Decomposition"
   ]
  },
  {
   "cell_type": "code",
   "execution_count": 29,
   "metadata": {
    "scrolled": true
   },
   "outputs": [
    {
     "data": {
      "text/plain": [
       "(matrix([[-0.98888296, -0.14869598],\n",
       "         [-0.14869598,  0.98888296]]),\n",
       " array([ 4.15941525,  1.92334728]),\n",
       " matrix([[-0.30924417, -0.95098267],\n",
       "         [ 0.95098267, -0.30924417]]))"
      ]
     },
     "execution_count": 29,
     "metadata": {},
     "output_type": "execute_result"
    }
   ],
   "source": [
    "svd = np.linalg.svd(matrix)\n",
    "svd"
   ]
  },
  {
   "cell_type": "markdown",
   "metadata": {},
   "source": [
    "## Source Code for Linear Solutions\n",
    "\n",
    "\n",
    "\\begin{equation*}\n",
    "A * z = b\\\\\n",
    "\\begin{bmatrix}\n",
    "    3 & -9\\\\\n",
    "    2 & 4\\\\\n",
    "\\end{bmatrix} * \\begin{bmatrix}\n",
    "                        z_{1}\\\\\n",
    "                        z_{2}\\\\\n",
    "                    \\end{bmatrix} = \\begin{bmatrix}\n",
    "                                        -42\\\\\n",
    "                                        2\\\\\n",
    "                                     \\end{bmatrix}                                        \n",
    "\\end{equation*}"
   ]
  },
  {
   "cell_type": "code",
   "execution_count": 34,
   "metadata": {},
   "outputs": [
    {
     "name": "stdout",
     "output_type": "stream",
     "text": [
      "[-5.  3.]\n"
     ]
    }
   ],
   "source": [
    "A = np.array([ [3,-9], [2,4] ])\n",
    "b = np.array([-42,2])\n",
    "z = np.linalg.solve(A,b)\n",
    "print(z)"
   ]
  },
  {
   "cell_type": "markdown",
   "metadata": {},
   "source": [
    "\\begin{equation*}\n",
    "M * y = c\\\\\n",
    "\\begin{bmatrix}\n",
    "    1 & -1 & -1\\\\\n",
    "    2 & 2 & -1\\\\\n",
    "    -1 & -1 & 2\\\\\n",
    "\\end{bmatrix} * \\begin{bmatrix}\n",
    "                        y_{1}\\\\\n",
    "                        y_{2}\\\\\n",
    "                        y_{3}\\\\\n",
    "                    \\end{bmatrix} = \\begin{bmatrix}\n",
    "                                        -6\\\\\n",
    "                                        1\\\\\n",
    "                                        1\\\\\n",
    "                                     \\end{bmatrix}                                        \n",
    "\\end{equation*}"
   ]
  },
  {
   "cell_type": "code",
   "execution_count": 32,
   "metadata": {},
   "outputs": [
    {
     "name": "stdout",
     "output_type": "stream",
     "text": [
      "[ 3. -2.  1.]\n"
     ]
    }
   ],
   "source": [
    "M = np.array([ [1,-2,-1], [2,2,-1], [-1,-1,2] ])\n",
    "c = np.array([6,1,1])\n",
    "y = np.linalg.solve(M,c)\n",
    "print(y)"
   ]
  },
  {
   "cell_type": "markdown",
   "metadata": {},
   "source": [
    "## Solve Nonlinear Equations with Python\n"
   ]
  },
  {
   "cell_type": "markdown",
   "metadata": {},
   "source": [
    "\\begin{equation}\n",
    "    \\begin{cases}\n",
    "        x^{2} + y^{2} = 20\\\\\n",
    "        y - x^{2} = 0\\\\\n",
    "        w - x*y = -5\\\\\n",
    "    \\end{cases} = \n",
    "    \\begin{cases}\n",
    "        x^{2} + y^{2} - 20 = 0\\\\\n",
    "        y - x^{2} + 0 = 0\\\\\n",
    "        w - x*y + 5 = 0\\\\\n",
    "    \\end{cases}\n",
    "\\end{equation}"
   ]
  },
  {
   "cell_type": "code",
   "execution_count": 35,
   "metadata": {
    "collapsed": true
   },
   "outputs": [],
   "source": [
    "from scipy.optimize import *"
   ]
  },
  {
   "cell_type": "code",
   "execution_count": 39,
   "metadata": {},
   "outputs": [
    {
     "name": "stdout",
     "output_type": "stream",
     "text": [
      "[ 2.  4.  3.]\n"
     ]
    }
   ],
   "source": [
    "def myFunction(z):\n",
    "   x = z[0]\n",
    "   y = z[1]\n",
    "   w = z[2]\n",
    "\n",
    "   F = np.empty((len(z)))\n",
    "   F[0] = pow(x,2)+pow(y,2)-20\n",
    "   F[1] = y - pow(x,2)\n",
    "   F[2] = w + 5 - x*y\n",
    "   return F\n",
    "\n",
    "zGuess = np.array([1,1,1])\n",
    "z = fsolve(myFunction,zGuess)\n",
    "print(z)"
   ]
  }
 ],
 "metadata": {
  "kernelspec": {
   "display_name": "Python 3",
   "language": "python",
   "name": "python3"
  },
  "language_info": {
   "codemirror_mode": {
    "name": "ipython",
    "version": 3
   },
   "file_extension": ".py",
   "mimetype": "text/x-python",
   "name": "python",
   "nbconvert_exporter": "python",
   "pygments_lexer": "ipython3",
   "version": "3.6.3"
  }
 },
 "nbformat": 4,
 "nbformat_minor": 2
}
