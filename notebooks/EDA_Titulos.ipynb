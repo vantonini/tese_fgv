{
 "cells": [
  {
   "cell_type": "code",
   "execution_count": 2,
   "metadata": {},
   "outputs": [],
   "source": [
    "%matplotlib inline  \n",
    "import numpy as np\n",
    "import pandas as pd\n",
    "import matplotlib.pyplot as plt"
   ]
  },
  {
   "cell_type": "code",
   "execution_count": 3,
   "metadata": {},
   "outputs": [],
   "source": [
    "import os\n",
    "path = \"D:\\\\Documents\\\\JupyterNB\\\\tese_fgv\\\\dados\"\n",
    "dir_output = \"D:\\\\Documents\\\\JupyterNB\\\\tese_fgv\\\\dados\\\\dados_tratados\\\\\""
   ]
  },
  {
   "cell_type": "markdown",
   "metadata": {},
   "source": [
    "## Para tratamento no nome dos arquivos"
   ]
  },
  {
   "cell_type": "code",
   "execution_count": 134,
   "metadata": {},
   "outputs": [],
   "source": [
    "chkRename = False\n",
    "\n",
    "if chkRename:\n",
    "\n",
    "    # Remove the word 'historico' from name\n",
    "    for filename in os.listdir(path):\n",
    "        os.rename(os.path.join(path,filename),os.path.join(path,filename.replace('historico', '')))\n",
    "\n",
    "    # Remove the char '-' from name\n",
    "    for filename in os.listdir(path):\n",
    "        os.rename(os.path.join(path,filename),os.path.join(path,filename.replace('-', '')))\n"
   ]
  },
  {
   "cell_type": "markdown",
   "metadata": {},
   "source": [
    "## Importando os dados da planilha"
   ]
  },
  {
   "cell_type": "markdown",
   "metadata": {},
   "source": [
    "A ideia aqui é criar um data frame em que as linhas sejam as observações e as colunas os vencimentos"
   ]
  },
  {
   "cell_type": "code",
   "execution_count": 14,
   "metadata": {},
   "outputs": [
    {
     "name": "stdout",
     "output_type": "stream",
     "text": [
      "Preços consolidados com sucesso!\n"
     ]
    }
   ],
   "source": [
    "# file = \"D:\\\\Documents\\\\JupyterNB\\\\tese_fgv\\\\dados\\\\NTNB_2018.xls\"\n",
    "# file_output = file.split(\"\\\\\")[-1].split(\".\")[0] + '.csv'\n",
    "\n",
    "file = \"D:\\\\Documents\\\\JupyterNB\\\\tese_fgv\\\\dados\\\\LTN_2018.xls\"\n",
    "file_output = file.split(\"\\\\\")[-1].split(\".\")[0] + '.csv'\n",
    "\n",
    "# Load spreadsheet\n",
    "xl = pd.ExcelFile(file)\n",
    "\n",
    "dfAll = [] # guarda todas as colunas do arquivo\n",
    "dtVcto = [] # vetor com as datas de vencimento para cada sheet\n",
    "date_format = '%d/%m/%Y'\n",
    "# date_format = '%Y-%m-%d'\n",
    "for i in range(0, len(xl.sheet_names)):\n",
    "    # primeiro eu importo tudo e capturo o vencimento do bond\n",
    "    df1 = xl.parse(i, header =0, index_col =0, parse_dates = True)\n",
    "    dtVcto.append(df1.columns[0])\n",
    "#     dtVcto.append(df1.columns[1].str)\n",
    "\n",
    "    # depois eu importo excluindo a primeira linha e parseando as datas como index e uso o date_format como modelo da data\n",
    "    df1 = xl.parse(i, header =1, index_col =0, parse_dates = True)\n",
    "    \n",
    "    # Corrige eventual formatação de data no index\n",
    "    newList = []\n",
    "    for idx in df1.index:\n",
    "        if type(idx) != type('a'):\n",
    "            idx = idx.strftime(\"%d/%m/%Y\")\n",
    "        newList.append((idx))\n",
    "    df1.index = newList\n",
    "\n",
    "    \n",
    "#     df1.index = pd.to_datetime(df1.index, format=date_format)\n",
    "    dfAll.append(df1)\n",
    "    \n",
    "# df utilizado para armazenar somente uma coluna 'PU Base Manhã', mas poderia ser outra\n",
    "df = []\n",
    "for i in range(0, len(dfAll)):\n",
    "    df.append(dfAll[i]['PU Base Manhã'])\n",
    "    df[i].name = str(dtVcto[i])\n",
    "df3 = pd.concat(df, axis=1, sort=False)\n",
    "# df3 = pd.merge(df[0], df[1], left_index=True, right_index=True)\n",
    "# df3.head()\n",
    "df3.index = pd.to_datetime(df3.index)\n",
    "df3.index.name = 'Dia'\n",
    "df3.head()\n",
    "\n",
    "# Exporto num arquivo que será utilizado para calcular as taxas forwards por minimização\n",
    "df3.to_csv(dir_output + file_output, encoding='utf-8')\n",
    "\n",
    "print(\"Preços consolidados com sucesso!\")"
   ]
  }
 ],
 "metadata": {
  "kernelspec": {
   "display_name": "Python 3",
   "language": "python",
   "name": "python3"
  },
  "language_info": {
   "codemirror_mode": {
    "name": "ipython",
    "version": 3
   },
   "file_extension": ".py",
   "mimetype": "text/x-python",
   "name": "python",
   "nbconvert_exporter": "python",
   "pygments_lexer": "ipython3",
   "version": "3.6.6"
  }
 },
 "nbformat": 4,
 "nbformat_minor": 2
}
