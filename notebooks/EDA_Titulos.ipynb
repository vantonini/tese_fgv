{
 "cells": [
  {
   "cell_type": "code",
   "execution_count": 2,
   "metadata": {},
   "outputs": [],
   "source": [
    "%matplotlib inline  \n",
    "import numpy as np\n",
    "import pandas as pd\n",
    "import matplotlib.pyplot as plt"
   ]
  },
  {
   "cell_type": "code",
   "execution_count": 3,
   "metadata": {},
   "outputs": [],
   "source": [
    "import os\n",
    "path = \"D:\\\\Documents\\\\JupyterNB\\\\tese_fgv\\\\dados\"\n",
    "dir_output = \"D:\\\\Documents\\\\JupyterNB\\\\tese_fgv\\\\dados\\\\dados_tratados\\\\\""
   ]
  },
  {
   "cell_type": "markdown",
   "metadata": {},
   "source": [
    "## Para tratamento no nome dos arquivos"
   ]
  },
  {
   "cell_type": "code",
   "execution_count": 134,
   "metadata": {},
   "outputs": [],
   "source": [
    "chkRename = False\n",
    "\n",
    "if chkRename:\n",
    "\n",
    "    # Remove the word 'historico' from name\n",
    "    for filename in os.listdir(path):\n",
    "        os.rename(os.path.join(path,filename),os.path.join(path,filename.replace('historico', '')))\n",
    "\n",
    "    # Remove the char '-' from name\n",
    "    for filename in os.listdir(path):\n",
    "        os.rename(os.path.join(path,filename),os.path.join(path,filename.replace('-', '')))\n"
   ]
  },
  {
   "cell_type": "markdown",
   "metadata": {},
   "source": [
    "## Importando os dados da planilha"
   ]
  },
  {
   "cell_type": "markdown",
   "metadata": {},
   "source": [
    "A ideia aqui é criar um data frame em que as linhas sejam as observações e as colunas os vencimentos"
   ]
  },
  {
   "cell_type": "code",
   "execution_count": 14,
   "metadata": {},
   "outputs": [
    {
     "name": "stdout",
     "output_type": "stream",
     "text": [
      "Preços consolidados com sucesso!\n"
     ]
    }
   ],
   "source": [
    "# file = \"D:\\\\Documents\\\\JupyterNB\\\\tese_fgv\\\\dados\\\\NTNB_2018.xls\"\n",
    "# file_output = file.split(\"\\\\\")[-1].split(\".\")[0] + '.csv'\n",
    "\n",
    "file = \"D:\\\\Documents\\\\JupyterNB\\\\tese_fgv\\\\dados\\\\LTN_2018.xls\"\n",
    "file_output = file.split(\"\\\\\")[-1].split(\".\")[0] + '.csv'\n",
    "\n",
    "# Load spreadsheet\n",
    "xl = pd.ExcelFile(file)\n",
    "\n",
    "dfAll = [] # guarda todas as colunas do arquivo\n",
    "dtVcto = [] # vetor com as datas de vencimento para cada sheet\n",
    "date_format = '%d/%m/%Y'\n",
    "# date_format = '%Y-%m-%d'\n",
    "for i in range(0, len(xl.sheet_names)):\n",
    "    # primeiro eu importo tudo e capturo o vencimento do bond\n",
    "    df1 = xl.parse(i, header =0, index_col =0, parse_dates = True)\n",
    "    dtVcto.append(df1.columns[0])\n",
    "#     dtVcto.append(df1.columns[1].str)\n",
    "\n",
    "    # depois eu importo excluindo a primeira linha e parseando as datas como index e uso o date_format como modelo da data\n",
    "    df1 = xl.parse(i, header =1, index_col =0, parse_dates = True)\n",
    "    \n",
    "    # Corrige eventual formatação de data no index\n",
    "    newList = []\n",
    "    for idx in df1.index:\n",
    "        if type(idx) != type('a'):\n",
    "            idx = idx.strftime(\"%d/%m/%Y\")\n",
    "        newList.append((idx))\n",
    "    df1.index = newList\n",
    "\n",
    "    \n",
    "#     df1.index = pd.to_datetime(df1.index, format=date_format)\n",
    "    dfAll.append(df1)\n",
    "    \n",
    "# df utilizado para armazenar somente uma coluna 'PU Base Manhã', mas poderia ser outra\n",
    "df = []\n",
    "for i in range(0, len(dfAll)):\n",
    "    df.append(dfAll[i]['PU Base Manhã'])\n",
    "    df[i].name = str(dtVcto[i])\n",
    "df3 = pd.concat(df, axis=1, sort=False)\n",
    "# df3 = pd.merge(df[0], df[1], left_index=True, right_index=True)\n",
    "# df3.head()\n",
    "df3.index = pd.to_datetime(df3.index)\n",
    "df3.index.name = 'Dia'\n",
    "df3.head()\n",
    "\n",
    "# Exporto num arquivo que será utilizado para calcular as taxas forwards por minimização\n",
    "df3.to_csv(dir_output + file_output, encoding='utf-8')\n",
    "\n",
    "print(\"Preços consolidados com sucesso!\")"
   ]
  },
  {
   "cell_type": "markdown",
   "metadata": {},
   "source": [
    "## Início da análise exploratória dos dados"
   ]
  },
  {
   "cell_type": "code",
   "execution_count": 6,
   "metadata": {},
   "outputs": [
    {
     "data": {
      "text/plain": [
       "4"
      ]
     },
     "execution_count": 6,
     "metadata": {},
     "output_type": "execute_result"
    }
   ],
   "source": [
    "len(df)"
   ]
  },
  {
   "cell_type": "code",
   "execution_count": 7,
   "metadata": {},
   "outputs": [
    {
     "data": {
      "image/png": "[encoded data removed]",
      "text/plain": [
       "<Figure size 432x288 with 4 Axes>"
      ]
     },
     "metadata": {},
     "output_type": "display_data"
    }
   ],
   "source": [
    "for i in range(0, len(df)):\n",
    "    plt.subplot(len(df)/2 + 1, 2, i + 1)\n",
    "    df[i].plot()\n",
    "\n",
    "# plt.tight_layout()\n",
    "plt.show()"
   ]
  },
  {
   "cell_type": "code",
   "execution_count": 8,
   "metadata": {
    "scrolled": true
   },
   "outputs": [
    {
     "data": {
      "text/html": [
       "<div>\n",
       "<style scoped>\n",
       "    .dataframe tbody tr th:only-of-type {\n",
       "        vertical-align: middle;\n",
       "    }\n",
       "\n",
       "    .dataframe tbody tr th {\n",
       "        vertical-align: top;\n",
       "    }\n",
       "\n",
       "    .dataframe thead th {\n",
       "        text-align: right;\n",
       "    }\n",
       "</style>\n",
       "<table border=\"1\" class=\"dataframe\">\n",
       "  <thead>\n",
       "    <tr style=\"text-align: right;\">\n",
       "      <th></th>\n",
       "      <th>01/01/2014</th>\n",
       "      <th>01/01/2015</th>\n",
       "      <th>01/01/2016</th>\n",
       "      <th>01/01/2017</th>\n",
       "    </tr>\n",
       "  </thead>\n",
       "  <tbody>\n",
       "    <tr>\n",
       "      <th>count</th>\n",
       "      <td>249.000000</td>\n",
       "      <td>251.000000</td>\n",
       "      <td>251.000000</td>\n",
       "      <td>243.00000</td>\n",
       "    </tr>\n",
       "    <tr>\n",
       "      <th>mean</th>\n",
       "      <td>960.865783</td>\n",
       "      <td>873.988725</td>\n",
       "      <td>786.120518</td>\n",
       "      <td>705.87823</td>\n",
       "    </tr>\n",
       "    <tr>\n",
       "      <th>std</th>\n",
       "      <td>19.322078</td>\n",
       "      <td>12.177493</td>\n",
       "      <td>7.571018</td>\n",
       "      <td>11.12922</td>\n",
       "    </tr>\n",
       "    <tr>\n",
       "      <th>min</th>\n",
       "      <td>932.570000</td>\n",
       "      <td>855.950000</td>\n",
       "      <td>759.980000</td>\n",
       "      <td>676.18000</td>\n",
       "    </tr>\n",
       "    <tr>\n",
       "      <th>25%</th>\n",
       "      <td>943.930000</td>\n",
       "      <td>862.455000</td>\n",
       "      <td>781.255000</td>\n",
       "      <td>698.64500</td>\n",
       "    </tr>\n",
       "    <tr>\n",
       "      <th>50%</th>\n",
       "      <td>957.390000</td>\n",
       "      <td>873.000000</td>\n",
       "      <td>786.710000</td>\n",
       "      <td>706.42000</td>\n",
       "    </tr>\n",
       "    <tr>\n",
       "      <th>75%</th>\n",
       "      <td>976.970000</td>\n",
       "      <td>883.795000</td>\n",
       "      <td>791.010000</td>\n",
       "      <td>712.90000</td>\n",
       "    </tr>\n",
       "    <tr>\n",
       "      <th>max</th>\n",
       "      <td>998.870000</td>\n",
       "      <td>902.610000</td>\n",
       "      <td>800.170000</td>\n",
       "      <td>730.31000</td>\n",
       "    </tr>\n",
       "  </tbody>\n",
       "</table>\n",
       "</div>"
      ],
      "text/plain": [
       "       01/01/2014  01/01/2015  01/01/2016  01/01/2017\n",
       "count  249.000000  251.000000  251.000000   243.00000\n",
       "mean   960.865783  873.988725  786.120518   705.87823\n",
       "std     19.322078   12.177493    7.571018    11.12922\n",
       "min    932.570000  855.950000  759.980000   676.18000\n",
       "25%    943.930000  862.455000  781.255000   698.64500\n",
       "50%    957.390000  873.000000  786.710000   706.42000\n",
       "75%    976.970000  883.795000  791.010000   712.90000\n",
       "max    998.870000  902.610000  800.170000   730.31000"
      ]
     },
     "execution_count": 8,
     "metadata": {},
     "output_type": "execute_result"
    }
   ],
   "source": [
    "df3.describe()\n",
    "# print(df3['PUBaseManha_15082020'].describe())\n",
    "# print(dfAll[0].describe())"
   ]
  },
  {
   "cell_type": "code",
   "execution_count": 34,
   "metadata": {},
   "outputs": [
    {
     "data": {
      "text/html": [
       "<div>\n",
       "<style>\n",
       "    .dataframe thead tr:only-child th {\n",
       "        text-align: right;\n",
       "    }\n",
       "\n",
       "    .dataframe thead th {\n",
       "        text-align: left;\n",
       "    }\n",
       "\n",
       "    .dataframe tbody tr th {\n",
       "        vertical-align: top;\n",
       "    }\n",
       "</style>\n",
       "<table border=\"1\" class=\"dataframe\">\n",
       "  <thead>\n",
       "    <tr style=\"text-align: right;\">\n",
       "      <th></th>\n",
       "      <th>15/08/2020</th>\n",
       "      <th>15/08/2024</th>\n",
       "      <th>15/08/2026</th>\n",
       "      <th>15/05/2035</th>\n",
       "      <th>15/05/2045</th>\n",
       "      <th>15/08/2050</th>\n",
       "    </tr>\n",
       "    <tr>\n",
       "      <th>Dia</th>\n",
       "      <th></th>\n",
       "      <th></th>\n",
       "      <th></th>\n",
       "      <th></th>\n",
       "      <th></th>\n",
       "      <th></th>\n",
       "    </tr>\n",
       "  </thead>\n",
       "  <tbody>\n",
       "    <tr>\n",
       "      <th>2018-02-15</th>\n",
       "      <td>3192.63</td>\n",
       "      <td>3249.28</td>\n",
       "      <td>3282.11</td>\n",
       "      <td>3386.17</td>\n",
       "      <td>3407.27</td>\n",
       "      <td>3390.56</td>\n",
       "    </tr>\n",
       "  </tbody>\n",
       "</table>\n",
       "</div>"
      ],
      "text/plain": [
       "            15/08/2020  15/08/2024  15/08/2026  15/05/2035  15/05/2045  \\\n",
       "Dia                                                                      \n",
       "2018-02-15     3192.63     3249.28     3282.11     3386.17     3407.27   \n",
       "\n",
       "            15/08/2050  \n",
       "Dia                     \n",
       "2018-02-15     3390.56  "
      ]
     },
     "execution_count": 34,
     "metadata": {},
     "output_type": "execute_result"
    }
   ],
   "source": [
    "df3[df3['15/08/2020']==3192.630000]"
   ]
  },
  {
   "cell_type": "code",
   "execution_count": 15,
   "metadata": {
    "scrolled": true
   },
   "outputs": [
    {
     "data": {
      "image/png": "[encoded data removed]",
      "text/plain": [
       "<Figure size 432x288 with 1 Axes>"
      ]
     },
     "metadata": {},
     "output_type": "display_data"
    }
   ],
   "source": [
    "df3['2017-05'].plot(legend=None)\n",
    "plt.show()"
   ]
  }
 ],
 "metadata": {
  "kernelspec": {
   "display_name": "Python 3",
   "language": "python",
   "name": "python3"
  },
  "language_info": {
   "codemirror_mode": {
    "name": "ipython",
    "version": 3
   },
   "file_extension": ".py",
   "mimetype": "text/x-python",
   "name": "python",
   "nbconvert_exporter": "python",
   "pygments_lexer": "ipython3",
   "version": "3.6.6"
  }
 },
 "nbformat": 4,
 "nbformat_minor": 2
}
