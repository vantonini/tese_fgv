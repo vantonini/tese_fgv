{
 "cells": [
  {
   "cell_type": "markdown",
   "metadata": {},
   "source": [
    "# Caderno de testes e análises"
   ]
  },
  {
   "cell_type": "markdown",
   "metadata": {},
   "source": [
    "## Criação de uma função de interpolação de uma curva de juros a partir dos preços dos títulos"
   ]
  },
  {
   "cell_type": "code",
   "execution_count": 1,
   "metadata": {
    "collapsed": true
   },
   "outputs": [],
   "source": [
    "from datetime import datetime, timedelta\n",
    "from dateutil.relativedelta import relativedelta\n",
    "import numpy as np\n",
    "from scipy.optimize import *\n",
    "\n",
    "MONTHS_PGTO_COUPON = [2, 5, 8, 11]"
   ]
  },
  {
   "cell_type": "code",
   "execution_count": 2,
   "metadata": {
    "collapsed": true
   },
   "outputs": [],
   "source": [
    "# Inicia a data base\n",
    "# dtToday = datetime.today()\n",
    "dtToday = datetime.strptime(\"2018-06-15\", \"%Y-%m-%d\")\n",
    "VNA = 3085.363738 # 15/06/2018"
   ]
  },
  {
   "cell_type": "code",
   "execution_count": 3,
   "metadata": {},
   "outputs": [
    {
     "name": "stdout",
     "output_type": "stream",
     "text": [
      "2050-08-15 00:00:00\n"
     ]
    }
   ],
   "source": [
    "# formato das informacoes dos bonds\n",
    "# preco: preço na data base do bond\n",
    "# dtVcto: data de vencimento do bond\n",
    "# freqCoupon: quantidade de pagamentos de coupom num ano\n",
    "# bonds = [{'preco':3235.23, 'dtVcto': '2020-08-15', 'freqCoupon':2},{'preco':3167.5, 'dtVcto': '2024-08-15', 'freqCoupon':2},\n",
    "#          {'preco':3153.56, 'dtVcto': '2026-08-15', 'freqCoupon':2}, {'preco':3116.795, 'dtVcto': '2035-05-15', 'freqCoupon':2},\n",
    "#          {'preco':3119.82, 'dtVcto': '2045-05-15', 'freqCoupon':2}, {'preco':3165.815, 'dtVcto': '2050-08-15', 'freqCoupon':2}]\n",
    "bonds = [{'preco':3238.99, 'dtVcto': '2020-08-15', 'freqCoupon':2},{'preco':3176.73, 'dtVcto': '2024-08-15', 'freqCoupon':2},\n",
    "         {'preco':3165.08, 'dtVcto': '2026-08-15', 'freqCoupon':2}, {'preco':3135.92, 'dtVcto': '2035-05-15', 'freqCoupon':2},\n",
    "         {'preco':3144.03, 'dtVcto': '2045-05-15', 'freqCoupon':2}, {'preco':3191.73, 'dtVcto': '2050-08-15', 'freqCoupon':2}]\n",
    "\n",
    "# encontrando o maior ano de vencimento para criar a lista de prazos\n",
    "dtVctoBond = []\n",
    "for bond in bonds:\n",
    "    dtVctoBond.append(datetime.strptime(bond['dtVcto'], '%Y-%m-%d'))\n",
    "\n",
    "maxVcto = max(dtVctoBond)\n",
    "print(maxVcto)\n",
    "\n",
    "dayVcto = maxVcto.day\n",
    "monthVcto = maxVcto.month\n",
    "yearVcto = maxVcto.year\n",
    "\n",
    "dayBase = dtToday.day\n",
    "monthBase = dtToday.month\n",
    "yearBase = dtToday.year\n",
    "\n",
    "\n",
    "#"
   ]
  },
  {
   "cell_type": "code",
   "execution_count": 4,
   "metadata": {
    "collapsed": true
   },
   "outputs": [],
   "source": [
    "# # criando vetor com os prazos de pagamento de Cupom\n",
    "# PzPgtoCupom = []\n",
    "# mtzCoupon = []\n",
    "# for year in range(dtToday.year, maxVcto.year + 1, 1):\n",
    "#     for month in MONTHS_PGTO_COUPON:\n",
    "#         if (datetime(year, month, 15) > dtToday and datetime(year, month, 15) <= maxVcto):\n",
    "#             PzPgtoCupom.append((datetime(year, month, 15) - dtToday).days)\n",
    "# #             print(\"Data Fluxo:\", (datetime(year, month, 15)))\n",
    "#             vetorCoupon = []\n",
    "#             for bond in bonds:\n",
    "#                 bondPmtMonths = [(datetime.strptime(bond['dtVcto'], '%Y-%m-%d') \n",
    "#                                  + relativedelta(months=+(int(12/bond['freqCoupon']) * i))).month \n",
    "#                                  for i in range(0, bond['freqCoupon'])]\n",
    "#                 if (month in bondPmtMonths):\n",
    "# #                     print(\"1: Bond\", bond['dtVcto'])\n",
    "#                     vetorCoupon.append(1)\n",
    "#                 else:\n",
    "# #                     print(\"0: Bond\", bond['dtVcto'])\n",
    "#                     vetorCoupon.append(0)\n",
    "#             mtzCoupon.append(vetorCoupon)\n",
    "# mtzCoupon = np.transpose(mtzCoupon)\n",
    "# # print(mtzCoupon)\n",
    "# # print(PzPgtoCupom)"
   ]
  },
  {
   "cell_type": "code",
   "execution_count": 5,
   "metadata": {
    "collapsed": true
   },
   "outputs": [],
   "source": [
    "# criando vetor com os prazos de pagamento de Cupom e MTZ AUX\n",
    "PzPgtoCupom = []\n",
    "mtzCoupon = []\n",
    "for year in range(dtToday.year, maxVcto.year + 1, 1):\n",
    "    for month in MONTHS_PGTO_COUPON:\n",
    "        if (datetime(year, month, 15) > dtToday and datetime(year, month, 15) <= maxVcto):\n",
    "            PzPgtoCupom.append((datetime(year, month, 15) - dtToday).days)\n",
    "#             print(\"Data Fluxo:\", (datetime(year, month, 15)))\n",
    "            vetorCoupon = []\n",
    "            for bond in bonds:\n",
    "                bondPmtMonths = [(datetime.strptime(bond['dtVcto'], '%Y-%m-%d') \n",
    "                                 + relativedelta(months=+(int(12/bond['freqCoupon']) * i))).month \n",
    "                                 for i in range(0, bond['freqCoupon'])]\n",
    "                if (month in bondPmtMonths) and datetime(year, month, 15) <= (datetime.strptime(bond['dtVcto'], '%Y-%m-%d')):\n",
    "#                     print(\"1: Bond\", bond['dtVcto'])\n",
    "                    vetorCoupon.append(1)\n",
    "                else:\n",
    "#                     print(\"0: Bond\", bond['dtVcto'])\n",
    "                    vetorCoupon.append(0)\n",
    "            mtzCoupon.append(vetorCoupon)\n",
    "mtzCoupon = np.transpose(mtzCoupon)"
   ]
  },
  {
   "cell_type": "code",
   "execution_count": 6,
   "metadata": {
    "collapsed": true
   },
   "outputs": [],
   "source": [
    "# PENSAR EM COMO FAZER A MULTIPLICAÇÃO DE MATRIZ\n",
    "# PENSAR EM COMO ORGANIZAR A MATRIZ PARA FAZER A MINIMIZAÇÃO\n",
    "# TEM QUE CONSIDERAR O VNA TB -- LEMBRAR!"
   ]
  },
  {
   "cell_type": "markdown",
   "metadata": {},
   "source": [
    "\n",
    "### Criando a matriz de cupoms e do preço dos bonds"
   ]
  },
  {
   "cell_type": "code",
   "execution_count": 7,
   "metadata": {
    "collapsed": true,
    "scrolled": false
   },
   "outputs": [],
   "source": [
    "# criando o vetor de cupons\n",
    "vlCupom = ((1 + 0.06)**(0.5) -1) * VNA\n",
    "arrayvlCupom = [vlCupom] * len(PzPgtoCupom)\n",
    "\n",
    "# criando a matriz de principais\n",
    "mtzPrincipal = []\n",
    "for k, bond in enumerate(bonds):\n",
    "    mtzPrincipal.append(VNA * (np.array(PzPgtoCupom) == (datetime.strptime(bond['dtVcto'], \"%Y-%m-%d\") - dtToday).days))\n",
    "    \n",
    "# Somando a matriz de cupons e de principais\n",
    "mtzVlCupom = (arrayvlCupom * mtzCoupon) + mtzPrincipal\n",
    "# mtzVlCupom\n",
    "\n",
    "# Criando a matriz de preços dos bonds\n",
    "b =[]\n",
    "for bond in bonds:\n",
    "    b.append(bond['preco'])"
   ]
  },
  {
   "cell_type": "markdown",
   "metadata": {},
   "source": [
    "### Criando a função de minimização pelo método não linear"
   ]
  },
  {
   "cell_type": "code",
   "execution_count": 8,
   "metadata": {
    "collapsed": true
   },
   "outputs": [],
   "source": [
    "# def PrecoBond_OK(xGuess):\n",
    "#     x = [i for i in xGuess]\n",
    "#     F = np.empty((len(xGuess)))\n",
    "#     F[0] = (\n",
    "#         arrayvlCupom[0] / (1+x[0])**(PzPgtoCupom[0]/360)\n",
    "#     + arrayvlCupom[1] / (1+x[0])**(PzPgtoCupom[1]/360)\n",
    "#     + arrayvlCupom[2] / (1+x[0])**(PzPgtoCupom[2]/360)\n",
    "#     + arrayvlCupom[3] / (1+x[0])**(PzPgtoCupom[3]/360)\n",
    "#     + arrayvlCupom[4] / (1+x[0])**(PzPgtoCupom[4]/360)\n",
    "#     - b[0]\n",
    "#         )\n",
    "#     return F\n",
    "\n",
    "# def PrecoBond(xGuess):\n",
    "#     x = [i for i in xGuess]\n",
    "#     F = np.zeros((len(xGuess)))\n",
    "#     for i in range(0, len(xGuess)):\n",
    "#         for k in range(0, len((PzPgtoCupom))):\n",
    "#             F[i] += (arrayvlCupom[k] / (1+x[i])**(PzPgtoCupom[k]/360))\n",
    "#         F[i] += -b[i]\n",
    "#     return F\n",
    "\n",
    "# # Fazendo a função de forma Matricial\n",
    "# # DCMat = matriz com os Guess das taxas, esse cara precisa ser do tamanho da quantidade de bonds.\n",
    "# # !- preciso definir quais prazos estão relacionados à qual taxa (uma mesma taxa pode ser usada em mais de um ponto)\n",
    "# # PzMat é o vetor com os prazos já dividido por 360\n",
    "# # DFMat é a matriz com as taxas elevadas aos prazos ((1+tx) ^ (Pz360)) \n",
    "# # F é a soma dos fluxos descontados menos o preço do bond a mercado\n",
    "# def PrecoBondMatriz_OK(xGuess):\n",
    "#     DCMat = np.mat(1+np.mat(xGuess))\n",
    "#     PzMat = np.mat(PzPgtoCupom)/360\n",
    "#     DFMat = np.power(DCMat,PzMat)\n",
    "#     F = np.sum(np.mat(arrayvlCupom) / DFMat) - b\n",
    "#     return F"
   ]
  },
  {
   "cell_type": "code",
   "execution_count": 13,
   "metadata": {
    "collapsed": true
   },
   "outputs": [],
   "source": [
    "def PrecoBondMatrizMin(xGuess):\n",
    "    xGuess = list(reversed(xGuess))\n",
    "    DCMat = np.zeros(len(PzPgtoCupom))\n",
    "    for k, bond in enumerate(reversed(bonds)):\n",
    "        DCMat[np.array(PzPgtoCupom) <= (datetime.strptime(bond['dtVcto'], \"%Y-%m-%d\") - dtToday).days] = (1+xGuess[k])\n",
    "    PzMat = np.mat(PzPgtoCupom)/360\n",
    "    DFMat = np.power(DCMat,PzMat)\n",
    "    F = np.sum(np.mat(mtzVlCupom) / DFMat, axis=1) - np.mat(b).T\n",
    "    F = np.asarray(F).reshape(-1)\n",
    "#     print(F,b)\n",
    "    return F\n",
    "######################################################################################################\n",
    "##################################### funcao sem subtrair o preço do bond ############################\n",
    "######################################################################################################\n",
    "\n",
    "def PrecoBondMatriz(xGuess):\n",
    "    xGuess = list(reversed(xGuess))\n",
    "    DCMat = np.zeros(len(PzPgtoCupom))\n",
    "    for k, bond in enumerate(reversed(bonds)):\n",
    "        DCMat[np.array(PzPgtoCupom) <= (datetime.strptime(bond['dtVcto'], \"%Y-%m-%d\") - dtToday).days] = (1+xGuess[k])\n",
    "    PzMat = np.mat(PzPgtoCupom)/360\n",
    "    DFMat = np.power(DCMat,PzMat)\n",
    "    F = np.sum(np.mat(mtzVlCupom) / DFMat, axis=1) # - np.mat(b).T\n",
    "    F = np.asarray(F).reshape(-1)\n",
    "#     print(F,b)\n",
    "    return F\n"
   ]
  },
  {
   "cell_type": "code",
   "execution_count": 10,
   "metadata": {},
   "outputs": [
    {
     "ename": "NameError",
     "evalue": "name 'z3' is not defined",
     "output_type": "error",
     "traceback": [
      "\u001b[1;31m---------------------------------------------------------------------------\u001b[0m",
      "\u001b[1;31mNameError\u001b[0m                                 Traceback (most recent call last)",
      "\u001b[1;32m<ipython-input-10-5ca5ae184095>\u001b[0m in \u001b[0;36m<module>\u001b[1;34m()\u001b[0m\n\u001b[1;32m----> 1\u001b[1;33m \u001b[0mxGuess\u001b[0m \u001b[1;33m=\u001b[0m \u001b[0mz3\u001b[0m\u001b[1;33m\u001b[0m\u001b[0m\n\u001b[0m\u001b[0;32m      2\u001b[0m \u001b[0mxGuess\u001b[0m \u001b[1;33m=\u001b[0m \u001b[0mlist\u001b[0m\u001b[1;33m(\u001b[0m\u001b[0mreversed\u001b[0m\u001b[1;33m(\u001b[0m\u001b[0mxGuess\u001b[0m\u001b[1;33m)\u001b[0m\u001b[1;33m)\u001b[0m\u001b[1;33m\u001b[0m\u001b[0m\n\u001b[0;32m      3\u001b[0m \u001b[0mDCMat\u001b[0m \u001b[1;33m=\u001b[0m \u001b[0mnp\u001b[0m\u001b[1;33m.\u001b[0m\u001b[0mzeros\u001b[0m\u001b[1;33m(\u001b[0m\u001b[0mlen\u001b[0m\u001b[1;33m(\u001b[0m\u001b[0mPzPgtoCupom\u001b[0m\u001b[1;33m)\u001b[0m\u001b[1;33m)\u001b[0m\u001b[1;33m\u001b[0m\u001b[0m\n\u001b[0;32m      4\u001b[0m \u001b[1;32mfor\u001b[0m \u001b[0mk\u001b[0m\u001b[1;33m,\u001b[0m \u001b[0mbond\u001b[0m \u001b[1;32min\u001b[0m \u001b[0menumerate\u001b[0m\u001b[1;33m(\u001b[0m\u001b[0mreversed\u001b[0m\u001b[1;33m(\u001b[0m\u001b[0mbonds\u001b[0m\u001b[1;33m)\u001b[0m\u001b[1;33m)\u001b[0m\u001b[1;33m:\u001b[0m\u001b[1;33m\u001b[0m\u001b[0m\n\u001b[0;32m      5\u001b[0m         \u001b[0mDCMat\u001b[0m\u001b[1;33m[\u001b[0m\u001b[0mnp\u001b[0m\u001b[1;33m.\u001b[0m\u001b[0marray\u001b[0m\u001b[1;33m(\u001b[0m\u001b[0mPzPgtoCupom\u001b[0m\u001b[1;33m)\u001b[0m \u001b[1;33m<=\u001b[0m \u001b[1;33m(\u001b[0m\u001b[0mdatetime\u001b[0m\u001b[1;33m.\u001b[0m\u001b[0mstrptime\u001b[0m\u001b[1;33m(\u001b[0m\u001b[0mbond\u001b[0m\u001b[1;33m[\u001b[0m\u001b[1;34m'dtVcto'\u001b[0m\u001b[1;33m]\u001b[0m\u001b[1;33m,\u001b[0m \u001b[1;34m\"%Y-%m-%d\"\u001b[0m\u001b[1;33m)\u001b[0m \u001b[1;33m-\u001b[0m \u001b[0mdtToday\u001b[0m\u001b[1;33m)\u001b[0m\u001b[1;33m.\u001b[0m\u001b[0mdays\u001b[0m\u001b[1;33m]\u001b[0m \u001b[1;33m=\u001b[0m \u001b[1;33m(\u001b[0m\u001b[1;36m1\u001b[0m\u001b[1;33m+\u001b[0m\u001b[0mxGuess\u001b[0m\u001b[1;33m[\u001b[0m\u001b[0mk\u001b[0m\u001b[1;33m]\u001b[0m\u001b[1;33m)\u001b[0m\u001b[1;33m\u001b[0m\u001b[0m\n",
      "\u001b[1;31mNameError\u001b[0m: name 'z3' is not defined"
     ]
    }
   ],
   "source": [
    "# xGuess = list(reversed(xGuess))\n",
    "# print(xGuess)\n",
    "# for k, bond in enumerate(reversed(bonds)):\n",
    "#     print(k, (datetime.strptime(bond['dtVcto'], \"%Y-%m-%d\") - dtToday).days)\n",
    "# np.array(PzPgtoCupom)\n",
    "# DCMat[np.array(PzPgtoCupom) <= (datetime.strptime(bond['dtVcto'], \"%Y-%m-%d\") - dtToday).days ]\n",
    "# for k, bond in enumerate(reversed(bonds)):\n",
    "#     print(np.array(PzPgtoCupom) <= (datetime.strptime(bond['dtVcto'], \"%Y-%m-%d\") - dtToday).days)\n",
    "#     DCMat[np.array(PzPgtoCupom) <= (datetime.strptime(bond['dtVcto'], \"%Y-%m-%d\") - dtToday).days] = (1+xGuess[k])\n",
    "# DCMat"
   ]
  },
  {
   "cell_type": "code",
   "execution_count": 14,
   "metadata": {
    "scrolled": true
   },
   "outputs": [
    {
     "name": "stdout",
     "output_type": "stream",
     "text": [
      "[ 0.04416953  0.0575217   0.05859974  0.05821452  0.05819694  0.05827041]\n"
     ]
    },
    {
     "data": {
      "text/plain": [
       "array([ 3238.98999999,  3176.73000005,  3165.07999998,  3135.92      ,\n",
       "        3144.02999998,  3191.72999989])"
      ]
     },
     "execution_count": 14,
     "metadata": {},
     "output_type": "execute_result"
    }
   ],
   "source": [
    "xGuess = [0.1] * len(bonds)\n",
    "\n",
    "# print(xGuess)\n",
    "# z1 = fsolve(PrecoBond,xGuess)\n",
    "# z2 = fsolve(PrecoBond_OK,xGuess)\n",
    "z3 = fsolve(PrecoBondMatrizMin,xGuess)\n",
    "# PrecoBondMatriz(xGuess)\n",
    "# print(b)\n",
    "# z * 100\n",
    "# print(z1, z2, z3)\n",
    "print(z3)\n",
    "PrecoBondMatriz(z3)"
   ]
  },
  {
   "cell_type": "code",
   "execution_count": 18,
   "metadata": {},
   "outputs": [
    {
     "data": {
      "text/plain": [
       "array([ 1.04416953,  1.04416953,  1.04416953,  1.04416953,  1.04416953,\n",
       "        1.04416953,  1.04416953,  1.04416953,  1.04416953,  1.0575217 ,\n",
       "        1.0575217 ,  1.0575217 ,  1.0575217 ,  1.0575217 ,  1.0575217 ,\n",
       "        1.0575217 ,  1.0575217 ,  1.0575217 ,  1.0575217 ,  1.0575217 ,\n",
       "        1.0575217 ,  1.0575217 ,  1.0575217 ,  1.0575217 ,  1.0575217 ,\n",
       "        1.05859974,  1.05859974,  1.05859974,  1.05859974,  1.05859974,\n",
       "        1.05859974,  1.05859974,  1.05859974,  1.05821452,  1.05821452,\n",
       "        1.05821452,  1.05821452,  1.05821452,  1.05821452,  1.05821452,\n",
       "        1.05821452,  1.05821452,  1.05821452,  1.05821452,  1.05821452,\n",
       "        1.05821452,  1.05821452,  1.05821452,  1.05821452,  1.05821452,\n",
       "        1.05821452,  1.05821452,  1.05821452,  1.05821452,  1.05821452,\n",
       "        1.05821452,  1.05821452,  1.05821452,  1.05821452,  1.05821452,\n",
       "        1.05821452,  1.05821452,  1.05821452,  1.05821452,  1.05821452,\n",
       "        1.05821452,  1.05821452,  1.05821452,  1.05819694,  1.05819694,\n",
       "        1.05819694,  1.05819694,  1.05819694,  1.05819694,  1.05819694,\n",
       "        1.05819694,  1.05819694,  1.05819694,  1.05819694,  1.05819694,\n",
       "        1.05819694,  1.05819694,  1.05819694,  1.05819694,  1.05819694,\n",
       "        1.05819694,  1.05819694,  1.05819694,  1.05819694,  1.05819694,\n",
       "        1.05819694,  1.05819694,  1.05819694,  1.05819694,  1.05819694,\n",
       "        1.05819694,  1.05819694,  1.05819694,  1.05819694,  1.05819694,\n",
       "        1.05819694,  1.05819694,  1.05819694,  1.05819694,  1.05819694,\n",
       "        1.05819694,  1.05819694,  1.05819694,  1.05827041,  1.05827041,\n",
       "        1.05827041,  1.05827041,  1.05827041,  1.05827041,  1.05827041,\n",
       "        1.05827041,  1.05827041,  1.05827041,  1.05827041,  1.05827041,\n",
       "        1.05827041,  1.05827041,  1.05827041,  1.05827041,  1.05827041,\n",
       "        1.05827041,  1.05827041,  1.05827041,  1.05827041])"
      ]
     },
     "execution_count": 18,
     "metadata": {},
     "output_type": "execute_result"
    }
   ],
   "source": [
    "# mtzVlCupom[0]\n",
    "\n",
    "xGuess = z3\n",
    "xGuess = list(reversed(xGuess))\n",
    "DCMat = np.zeros(len(PzPgtoCupom))\n",
    "for k, bond in enumerate(reversed(bonds)):\n",
    "        DCMat[np.array(PzPgtoCupom) <= (datetime.strptime(bond['dtVcto'], \"%Y-%m-%d\") - dtToday).days] = (1+xGuess[k])\n",
    "PzMat = np.mat(PzPgtoCupom)/360\n",
    "DFMat = np.power(DCMat,PzMat)\n",
    "\n",
    "F = np.sum(np.mat(mtzVlCupom) / DFMat, axis=1) - np.mat(b).T\n",
    "F = np.asarray(F).reshape(-1)\n",
    "# print(F) \n",
    "\n",
    "# for k, bond in enumerate(bonds):\n",
    "#     print('Calculado: {0:.2f}, bond: {1:.2f}'.format((np.sum(mtzVlCupom[k] / DFMat)), b[k]))\n",
    "#     print(type(b[k]))\n",
    "# DFMat\n",
    "DCMat\n",
    "# np.mat(mtzVlCupom) / DFMat,"
   ]
  },
  {
   "cell_type": "markdown",
   "metadata": {},
   "source": [
    "$\\begin{bmatrix} A_{11} && A_{12} \\\\\n",
    "          A_{21} && A_{22}\n",
    "   \\end{bmatrix}$"
   ]
  },
  {
   "cell_type": "code",
   "execution_count": null,
   "metadata": {
    "collapsed": true
   },
   "outputs": [],
   "source": [
    "# # tentar criar uma matriz que possua o número de linhas = número de bonds, sendo cada linha o valor de x1, x2, etc.\n",
    "# # o número de colunas seria = à qtd de datas de pagamento de cupom\n",
    "# mtzAux = []\n",
    "# for k, bond in enumerate(bonds):\n",
    "# #     print(k, bond)\n",
    "#     x_linha = [k] * len(PzPgtoCupom)\n",
    "#     mtzAux.append(x_linha)\n",
    "    \n",
    "# print(mtzAux)"
   ]
  }
 ],
 "metadata": {
  "kernelspec": {
   "display_name": "Python 3",
   "language": "python",
   "name": "python3"
  },
  "language_info": {
   "codemirror_mode": {
    "name": "ipython",
    "version": 3
   },
   "file_extension": ".py",
   "mimetype": "text/x-python",
   "name": "python",
   "nbconvert_exporter": "python",
   "pygments_lexer": "ipython3",
   "version": "3.6.3"
  }
 },
 "nbformat": 4,
 "nbformat_minor": 2
}
