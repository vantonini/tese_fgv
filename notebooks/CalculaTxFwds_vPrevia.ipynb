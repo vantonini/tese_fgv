{
 "cells": [
  {
   "cell_type": "markdown",
   "metadata": {},
   "source": [
    "# Caderno de testes e análises"
   ]
  },
  {
   "cell_type": "markdown",
   "metadata": {},
   "source": [
    " - Problema com minimização nas datas de vencimento dos bonds (2013, 2015 e 2017)\n",
    "  - tentei atualizar o VNA para resolver esse problema\n",
    "   - O problema resolveu algumas minimizações perto da data de vcto, mas ainda tem problema para o último dia antes do vcto\n",
    "   \n",
    " - Quando um titulo vence, o vetor da fwd Original desloca uma coluna, preciso pensar em como corrigir esse deslocamento\n",
    "     - Usei um dic(zip(vcto, txs))\n",
    "     \n",
    " - O cálculo das taxas físicas estava apresentando uma inconsitência. Já corrigi\n",
    " - As taxas fixas calculadas são para ZCP, ou seja, é a taxa que desconta um vcto fixo, com base em hoje."
   ]
  },
  {
   "cell_type": "markdown",
   "metadata": {},
   "source": [
    "## Criação de uma função de interpolação de uma curva de juros a partir dos preços dos títulos"
   ]
  },
  {
   "cell_type": "code",
   "execution_count": 4,
   "metadata": {},
   "outputs": [],
   "source": [
    "from datetime import datetime, timedelta\n",
    "from dateutil.relativedelta import relativedelta\n",
    "import numpy as np\n",
    "import pandas as pd\n",
    "from scipy.optimize import *\n",
    "import matplotlib.pyplot as plt\n"
   ]
  },
  {
   "cell_type": "markdown",
   "metadata": {},
   "source": [
    "# Definindo as funções que serão utilizadas no trabalho\n"
   ]
  },
  {
   "cell_type": "code",
   "execution_count": 5,
   "metadata": {},
   "outputs": [],
   "source": [
    "\n",
    "######################################################################################################\n",
    "##################################### funcao para alocação dos fluxos numa matriz ####################\n",
    "##########################################################1###########################################\n",
    "\n",
    "def CalculaMatriz(dtToday, maxVcto, bonds, MONTHS_PGTO_COUPON, INPUT_FILE):\n",
    "    # Para cálculo da matriz de vencimento das LTNs\n",
    "    if ('LTN' in INPUT_FILE):\n",
    "        PzPgtoCupom = []\n",
    "        mtzCoupon = []\n",
    "        for year in range(dtToday.year, maxVcto.year + 1, 1):\n",
    "            for month in MONTHS_PGTO_COUPON:\n",
    "                if (datetime(year, month, 1) > dtToday and datetime(year, month, 1) <= maxVcto):\n",
    "                    PzPgtoCupom.append((datetime(year, month, 1) - dtToday).days)\n",
    "                    vetorCoupon = []\n",
    "                    for bond in bonds:\n",
    "                        bondPmtMonths = [(datetime.strptime(bond['dtVcto'], '%Y-%m-%d') \n",
    "                                         + relativedelta(months=+(int(12/bond['freqCoupon']) * i))).month \n",
    "                                         for i in range(0, bond['freqCoupon'])]\n",
    "                        if (month in bondPmtMonths) and datetime(year, month, 1) == (datetime.strptime(bond['dtVcto'], '%Y-%m-%d')):\n",
    "                            vetorCoupon.append(1)\n",
    "                        else:\n",
    "                            vetorCoupon.append(0)\n",
    "                    mtzCoupon.append(vetorCoupon)\n",
    "    \n",
    "    elif ('Principal' in INPUT_FILE):        \n",
    "    #NTNB Principal, ou seja, sem pagamento de cupom\n",
    "        PzPgtoCupom = []\n",
    "        mtzCoupon = []\n",
    "        for year in range(dtToday.year, maxVcto.year + 1, 1):\n",
    "            for month in MONTHS_PGTO_COUPON:\n",
    "                if (datetime(year, month, 15) > dtToday and datetime(year, month, 15) <= maxVcto):\n",
    "                    PzPgtoCupom.append((datetime(year, month, 15) - dtToday).days)\n",
    "                    vetorCoupon = []\n",
    "                    for bond in bonds:\n",
    "                        bondPmtMonths = [(datetime.strptime(bond['dtVcto'], '%Y-%m-%d') \n",
    "                                         + relativedelta(months=+(int(12/bond['freqCoupon']) * i))).month \n",
    "                                         for i in range(0, bond['freqCoupon'])]\n",
    "                        if (month in bondPmtMonths) and datetime(year, month, 15) <= (datetime.strptime(bond['dtVcto'], '%Y-%m-%d')):\n",
    "                            vetorCoupon.append(1)\n",
    "                        else:\n",
    "                            vetorCoupon.append(0)\n",
    "                    mtzCoupon.append(vetorCoupon)\n",
    "    \n",
    "    else:\n",
    "        # NTNB com pagamento de cupom\n",
    "        PzPgtoCupom = []\n",
    "        mtzCoupon = []\n",
    "        for year in range(dtToday.year, maxVcto.year + 1, 1):\n",
    "            for month in MONTHS_PGTO_COUPON:\n",
    "                if (datetime(year, month, 15) > dtToday and datetime(year, month, 15) <= maxVcto):\n",
    "                    PzPgtoCupom.append((datetime(year, month, 15) - dtToday).days)\n",
    "                    vetorCoupon = []\n",
    "                    for bond in bonds:\n",
    "                        bondPmtMonths = [(datetime.strptime(bond['dtVcto'], '%Y-%m-%d') \n",
    "                                         + relativedelta(months=+(int(12/bond['freqCoupon']) * i))).month \n",
    "                                         for i in range(0, bond['freqCoupon'])]\n",
    "                        if (month in bondPmtMonths) and datetime(year, month, 15) <= (datetime.strptime(bond['dtVcto'], '%Y-%m-%d')):\n",
    "                            vetorCoupon.append(1)\n",
    "                        else:\n",
    "                            vetorCoupon.append(0)\n",
    "                    mtzCoupon.append(vetorCoupon)\n",
    "    \n",
    "    mtzCoupon = np.transpose(mtzCoupon)\n",
    "    return mtzCoupon, PzPgtoCupom\n",
    "\n",
    "######################################################################################################\n",
    "##################################### funcao para alocação do principal na matriz de prazos ##########\n",
    "######################################################################################################\n",
    "\n",
    "def CalculaMatrizPrincipal(VNA,PzPgtoCupom, bonds, INPUT_FILE):\n",
    "    # criando a matriz de principais\n",
    "    mtzPrincipal = []\n",
    "    if ('LTN' in INPUT_FILE):\n",
    "        for k, bond in enumerate(bonds):\n",
    "            mtzPrincipal.append(1000 * (np.array(PzPgtoCupom) == (datetime.strptime(bond['dtVcto'], \"%Y-%m-%d\") - dtToday).days))\n",
    "    elif('Principal' in INPUT_FILE):\n",
    "        for k, bond in enumerate(bonds):\n",
    "            mtzPrincipal.append(VNA * (np.array(PzPgtoCupom) == (datetime.strptime(bond['dtVcto'], \"%Y-%m-%d\") - dtToday).days))\n",
    "    else:\n",
    "        for k, bond in enumerate(bonds):\n",
    "            mtzPrincipal.append(VNA * (np.array(PzPgtoCupom) == (datetime.strptime(bond['dtVcto'], \"%Y-%m-%d\") - dtToday).days))\n",
    "    return mtzPrincipal\n",
    "\n",
    "######################################################################################################\n",
    "##################################### funcao subtraindo o preço do bond (minimização) ################\n",
    "######################################################################################################\n",
    "\n",
    "def PrecoBondMatrizMin(xGuess):\n",
    "    # Essa função recebe como input as taxas dos forwards em base a.a (360) e retorna a diferença \n",
    "    # entre o valor do bond calculado por DCF por essas taxas e o preço do bond no mercado\n",
    "    xGuess = list(reversed(xGuess))\n",
    "    DCMat = np.zeros(len(PzPgtoCupom))\n",
    "    for k, bond in enumerate(reversed(bonds)):\n",
    "        DCMat[np.array(PzPgtoCupom) <= (datetime.strptime(bond['dtVcto'], \"%Y-%m-%d\") - dtToday).days] = (1+xGuess[k])\n",
    "    PzMat = np.mat(PzPgtoCupom)/360\n",
    "    DFMat = np.power(DCMat,PzMat)\n",
    "    F = np.sum(np.mat(mtzVlCupom) / DFMat, axis=1) - np.mat(b).T\n",
    "    F = np.asarray(F).reshape(-1)\n",
    "#     print(F,b)\n",
    "    return F\n",
    "\n",
    "######################################################################################################\n",
    "##################################### funcao sem subtrair o preço do bond ############################\n",
    "######################################################################################################\n",
    "\n",
    "def PrecoBondMatriz(xGuess):\n",
    "    # Essa função recebe como input as taxas dos forwards em base a.a (360) e retorna o valor do bond calculado\n",
    "    # por DCF por essas taxas\n",
    "    xGuess = list(reversed(xGuess))\n",
    "    DCMat = np.zeros(len(PzPgtoCupom))\n",
    "    for k, bond in enumerate(reversed(bonds)):\n",
    "        DCMat[np.array(PzPgtoCupom) <= (datetime.strptime(bond['dtVcto'], \"%Y-%m-%d\") - dtToday).days] = (1+xGuess[k])\n",
    "    PzMat = np.mat(PzPgtoCupom)/360\n",
    "#     print(PzPgtoCupom)\n",
    "#     print(DCMat)\n",
    "    DFMat = np.power(DCMat,PzMat)\n",
    "    print(mtzVlCupom, DFMat)\n",
    "    F = np.sum(np.mat(mtzVlCupom) / DFMat, axis=1) # - np.mat(b).T  \n",
    "    F = np.asarray(F).reshape(-1)\n",
    "#     print(F)\n",
    "    return F\n",
    "\n",
    "######################################################################################################\n",
    "##################################### funcao para calculo das taxas com prazos fixos #################\n",
    "######################################################################################################\n",
    "\n",
    "def CalculaFwdPzFixo(fwdsOriginais, vctosBonds, dtBase, vctosFixos):\n",
    "    # Essa função está calculando a taxa de desconto ZCB para cada vcto fixo passado\n",
    "    # Deveria adaptar para cálcular as fwds?\n",
    "    # Calcula os prazo em DC de cada um dos vencimentos\n",
    "    vctosDC = []\n",
    "    for vctosBond in vctosBonds:\n",
    "        vctosDC.append((vctosBond - dtToday).days)\n",
    "#     print(vctosDC)\n",
    "    # instancia a list com os fwds fixos\n",
    "    fwd = [1] * len(vctosFixos)\n",
    "    \n",
    "    for pz in vctosFixos: # para cada prazo, verifica qual é maior ou menor que todos os vencimentos dos bonds\n",
    "        for i in range(len(vctosBonds)):\n",
    "            \n",
    "            # preciso levar em contar que fwd vale entre os prazos, não da data base para o vcto\n",
    "\n",
    "            if i == 0:\n",
    "                if pz < vctosDC[i]:\n",
    "                    fwd[listDtVctoFixo.index(pz)] = fwd[listDtVctoFixo.index(pz)] * ((1 + fwdsOriginais[i]) \n",
    "                                                                                     ** (pz/360))\n",
    "#                     print(pz, vctosDC[i], fwd[listDtVctoFixo.index(pz)], fwdsOriginais[i], pz)\n",
    "                    break\n",
    "                else:\n",
    "                    fwd[listDtVctoFixo.index(pz)] = fwd[listDtVctoFixo.index(pz)] * ((1 + fwdsOriginais[i]) \n",
    "                                                                                     ** (vctosDC[i]/360))\n",
    "#                     print(pz, vctosDC[i], fwd[listDtVctoFixo.index(pz)], fwdsOriginais[i], vctosDC[i])\n",
    "            else:\n",
    "                if pz < vctosDC[i]:\n",
    "                    fwd[listDtVctoFixo.index(pz)] = fwd[listDtVctoFixo.index(pz)] * ((1 + fwdsOriginais[i]) \n",
    "                                                                                     ** ((pz - vctosDC[i-1])/360))\n",
    "#                     print(pz, vctosDC[i], fwd[listDtVctoFixo.index(pz)], fwdsOriginais[i], (pz - vctosDC[i-1]))\n",
    "                    break\n",
    "                else:\n",
    "                    if i == len(vctosBonds) - 1:\n",
    "                        fwd[listDtVctoFixo.index(pz)] = fwd[listDtVctoFixo.index(pz)] * ((1 + fwdsOriginais[i]) \n",
    "                                                                                     ** ((pz - vctosDC[i])/360))\n",
    "#                         print(pz, vctosDC[i], fwd[listDtVctoFixo.index(pz)], fwdsOriginais[i], (pz - vctosDC[i]))\n",
    "                    else:\n",
    "                        fwd[listDtVctoFixo.index(pz)] = fwd[listDtVctoFixo.index(pz)] * ((1 + fwdsOriginais[i]) \n",
    "                                                                                     ** ((vctosDC[i] - vctosDC[i-1])/360))\n",
    "#                         print(pz, vctosDC[i], fwd[listDtVctoFixo.index(pz)], fwdsOriginais[i], (vctosDC[i] - vctosDC[i-1]))\n",
    "        \n",
    "#         print(fwd[listDtVctoFixo.index(pz)], pz)\n",
    "        fwd[listDtVctoFixo.index(pz)] = (fwd[listDtVctoFixo.index(pz)] ** (360/pz)) - 1\n",
    "#         print(pz, vctosDC[i], fwd[listDtVctoFixo.index(pz)])\n",
    "    return fwd\n",
    "\n",
    "######################################################################################################\n",
    "##################################### função para atualizar o VNA ####################################\n",
    "######################################################################################################\n",
    "\n",
    "def AtualizaVNA(DtHoje):\n",
    "    # Função que recebe a data base e atualiza do VNA projetando a inflação aferida na data passada\n",
    "    # Essa atualização deixa os valores dos preços calculados mais próximos do mercado quando perto\n",
    "    # do vcto de um bond\n",
    "    DtHoje = pd.to_datetime(DtHoje)\n",
    "    dfVNA.index = pd.to_datetime(dfVNA.index.tolist())\n",
    "    VNAt = dfVNA[dfVNA.index <= DtHoje].max()['VNA']\n",
    "    VNAt_1 = dfVNA[dfVNA['VNA'] < VNAt].max()['VNA']\n",
    "    DtVNAt = dfVNA.index[dfVNA['VNA'] == VNAt]\n",
    "    DtVNAtD1 = dfVNA.index[dfVNA['VNA'] < VNAt][-1]\n",
    "    DtProxVNA = dfVNA.index[dfVNA['VNA'] > VNAt][0]\n",
    "    \n",
    "    PzDCHoje_UltVNA = (DtHoje - DtVNAt).days\n",
    "    PzDCProxVNA_UltVNA = (DtProxVNA - DtVNAt).days\n",
    "#     print(DtProxVNA, VNAt/VNAt_1, PzDCHoje_UltVNA , PzDCProxVNA_UltVNA, ((VNAt/VNAt_1) ** ((PzDCHoje_UltVNA / (PzDCProxVNA_UltVNA)))))\n",
    "    VNAt = VNAt * ((VNAt/VNAt_1) ** ((PzDCHoje_UltVNA / (PzDCProxVNA_UltVNA))))\n",
    "    return VNAt.tolist()[0]"
   ]
  },
  {
   "cell_type": "markdown",
   "metadata": {},
   "source": [
    "# Início do cálculo das taxas forwards Reais"
   ]
  },
  {
   "cell_type": "code",
   "execution_count": 12,
   "metadata": {},
   "outputs": [],
   "source": [
    "# Definindo algumas variáveis\n",
    "INPUT_FILES = ['NTNB_2013.csv','NTNB_2014.csv', 'NTNB_2015.csv', 'NTNB_2016.csv', 'NTNB_2017.csv', 'NTNB_2018.csv',  ]\n",
    "INPUT_PATH = \"D:\\\\Documents\\\\JupyterNB\\\\tese_fgv\\\\dados\\\\dados_tratados\\\\\"\n",
    "INPUT_FILE = INPUT_FILES[1]\n",
    "VNA_FILE = \"VNAHist.csv\"\n",
    "OUTPUT_FILE = \"fwdReal_\" + INPUT_FILE.split(\".\")[0].split(\"_\")[1] + \".csv\"\n",
    "OUTPUT_FILE_REAL = \"fwdRealOriginais_\" + INPUT_FILE.split(\".\")[0].split(\"_\")[1] + \".csv\"\n",
    "MONTHS_PGTO_COUPON = [2, 5, 8, 11]\n",
    "listDtVctoFixo = [360, 5*360, 10*360, 20*360]\n",
    "\n",
    "# Importando dados\n",
    "dfPrecos = pd.read_csv(INPUT_PATH + INPUT_FILE, index_col='Dia')\n",
    "dfVNA = pd.read_csv(INPUT_PATH + VNA_FILE, index_col = 'DataBase')"
   ]
  },
  {
   "cell_type": "markdown",
   "metadata": {},
   "source": [
    "## Calculo para as NTNBs"
   ]
  },
  {
   "cell_type": "code",
   "execution_count": 13,
   "metadata": {
    "scrolled": false
   },
   "outputs": [
    {
     "name": "stdout",
     "output_type": "stream",
     "text": [
      "Taxas calculadas com sucesso!\n"
     ]
    }
   ],
   "source": [
    "vcBonds = list(dfPrecos.columns)\n",
    "xGuess = [0.05] * len(vcBonds)\n",
    "outputFwd  = []\n",
    "outputFwdOriginais = []\n",
    "# TESTA SE É O ARQUIVO É DE NTNB (com fluxo de caixa) OU LTN (sem fluxo de caixa)\n",
    "if ('LTN' in INPUT_FILE):\n",
    "    freqCupom = 0\n",
    "else:\n",
    "    freqCupom = 2\n",
    "\n",
    "i_aux = 0 # utilizado para fazer pontos de parada no for\n",
    "# Inicio do calculo das fwds para cada um dos dias\n",
    "# for index, row in dfPrecos.loc['2013-05-14':'2013-05-14'].iterrows():\n",
    "for index, row in dfPrecos.iterrows():\n",
    "    bonds = []\n",
    "    b =[]\n",
    "    \n",
    "    # Inicia a data base e VNA\n",
    "    dtToday = datetime.strptime(index, \"%Y-%m-%d\")\n",
    "    VNA = AtualizaVNA(index)\n",
    "#     print(row)\n",
    "    for vcBond in vcBonds:\n",
    "        # Cria o dicionário com os preços e vencimentos para cada dia\n",
    "        if datetime.strptime(vcBond, '%d/%m/%Y').strftime('%Y-%m-%d') >= index and not pd.isna((row[vcBond])): # verifica se tem algum bond vencido \n",
    "            bonds.append({'preco':row[vcBond], 'dtVcto':datetime.strptime(vcBond, '%d/%m/%Y').strftime('%Y-%m-%d'),\n",
    "                           'freqCoupon': freqCupom})\n",
    "            b.append(row[vcBond])    \n",
    "\n",
    "    # Capturo algumas informações para o calculo das matrizes\n",
    "    dtVctoBond = []\n",
    "    for bond in bonds:\n",
    "        dtVctoBond.append(datetime.strptime(bond['dtVcto'], '%Y-%m-%d'))\n",
    "\n",
    "    maxVcto = max(dtVctoBond)\n",
    "    dayVcto, monthVcto, yearVcto = maxVcto.day, maxVcto.month, maxVcto.year\n",
    "    dayBase, monthBase, yearBase = dtToday.day, dtToday.month, dtToday.year\n",
    "\n",
    "    # Calculo da matriz de cupons\n",
    "    mtzCoupon, PzPgtoCupom = CalculaMatriz(dtToday, maxVcto, bonds, MONTHS_PGTO_COUPON, INPUT_FILE)\n",
    "    \n",
    "#     # Calculo da matriz de cupons\n",
    "#     PzPgtoCupom = []\n",
    "#     mtzCoupon = []\n",
    "#     for year in range(dtToday.year, maxVcto.year + 1, 1):\n",
    "#         for month in MONTHS_PGTO_COUPON:\n",
    "#             if (datetime(year, month, 15) > dtToday and datetime(year, month, 15) <= maxVcto):\n",
    "#                 PzPgtoCupom.append((datetime(year, month, 15) - dtToday).days)\n",
    "#                 vetorCoupon = []\n",
    "#                 for bond in bonds:\n",
    "#                     bondPmtMonths = [(datetime.strptime(bond['dtVcto'], '%Y-%m-%d') \n",
    "#                                      + relativedelta(months=+(int(12/bond['freqCoupon']) * i))).month \n",
    "#                                      for i in range(0, bond['freqCoupon'])]\n",
    "#                     if (month in bondPmtMonths) and datetime(year, month, 15) <= (datetime.strptime(bond['dtVcto'], '%Y-%m-%d')):\n",
    "#                         vetorCoupon.append(1)\n",
    "#                     else:\n",
    "#                         vetorCoupon.append(0)\n",
    "#                 mtzCoupon.append(vetorCoupon)\n",
    "#     mtzCoupon = np.transpose(mtzCoupon)\n",
    "    \n",
    "    # criando o vetor de cupons\n",
    "    vlCupom = ((1 + 0.06)**(0.5) -1) * VNA\n",
    "    arrayvlCupom = [vlCupom] * len(PzPgtoCupom)\n",
    "#     print(vlCupom)\n",
    "\n",
    "    # criando a matriz de principais\n",
    "    mtzPrincipal = CalculaMatrizPrincipal(VNA,PzPgtoCupom, bonds, INPUT_FILE)\n",
    "#     mtzPrincipal = []\n",
    "#     for k, bond in enumerate(bonds):\n",
    "#         mtzPrincipal.append(VNA * (np.array(PzPgtoCupom) == (datetime.strptime(bond['dtVcto'], \"%Y-%m-%d\") - dtToday).days))\n",
    "\n",
    "    # Somando a matriz de cupons e de principais\n",
    "    mtzVlCupom = (arrayvlCupom * mtzCoupon) + mtzPrincipal\n",
    "\n",
    "    # Calculo das fwds para os vctos dos bonds (taxas a.a base 360)\n",
    "#     xGuess = [0.015] * len(bonds)\n",
    "#     print(len(xGuess), len(bonds))\n",
    "    if len(xGuess) > len(bonds):\n",
    "        xGuess = xGuess[1:]\n",
    "#         xGuess = [0.05] * len(vcBonds)\n",
    "    elif len(xGuess) < len(bonds):\n",
    "        xGuess = [0.05] * len(bonds)\n",
    "#         np.concatenate(xGuess, [0.1])\n",
    "#     print(len(xGuess), len(bonds))\n",
    "    \n",
    "    fwdsOriginais = fsolve(PrecoBondMatrizMin,xGuess)\n",
    "    xGuess = fwdsOriginais\n",
    "#     print(fwdsOriginais)\n",
    "#     print(dict(zip(dtVctoBond, fwdsOriginais)))\n",
    "    outputFwdOriginais.append(dict(zip(dtVctoBond, fwdsOriginais)))\n",
    "    \n",
    "    # Calculo das fwds para os prazos fixos\n",
    "    fwdFixos = CalculaFwdPzFixo(fwdsOriginais, dtVctoBond, dtToday, listDtVctoFixo)\n",
    "#     print(fwdFixos)\n",
    "    outputFwd.append(dict(zip(listDtVctoFixo, fwdFixos)))\n",
    "\n",
    "#     if i_aux == 5:\n",
    "#         break\n",
    "    i_aux += 1\n",
    "#     print(index, xGuess)\n",
    "print(\"Taxas calculadas com sucesso!\")\n"
   ]
  },
  {
   "cell_type": "markdown",
   "metadata": {},
   "source": [
    "### Criar um arquivo de output em csv com data no index e prazos fixos no nome da coluna"
   ]
  },
  {
   "cell_type": "code",
   "execution_count": 14,
   "metadata": {},
   "outputs": [
    {
     "name": "stdout",
     "output_type": "stream",
     "text": [
      "Taxas Fwd Fixas exportadas!\n",
      "Taxas Fwd Originais exportadas!\n"
     ]
    }
   ],
   "source": [
    "dfOutputFwd = pd.DataFrame(outputFwd, index=dfPrecos.index, columns=listDtVctoFixo)\n",
    "dfOutputFwd.index = pd.to_datetime(dfOutputFwd.index)\n",
    "dfOutputFwd.to_csv(INPUT_PATH + OUTPUT_FILE)\n",
    "print(\"Taxas Fwd Fixas exportadas!\")\n",
    "\n",
    "\n",
    "dfOutputFwdOriginais = pd.DataFrame(outputFwdOriginais, index=dfPrecos.index, columns=vcBonds)\n",
    "dfOutputFwdOriginais.index = pd.to_datetime(dfOutputFwdOriginais.index)\n",
    "dfOutputFwdOriginais.to_csv(INPUT_PATH + OUTPUT_FILE_REAL)\n",
    "print(\"Taxas Fwd Originais exportadas!\")"
   ]
  },
  {
   "cell_type": "markdown",
   "metadata": {},
   "source": [
    "# Calculo para as LTNs"
   ]
  },
  {
   "cell_type": "code",
   "execution_count": 66,
   "metadata": {},
   "outputs": [],
   "source": [
    "# Definindo algumas variáveis\n",
    "INPUT_FILES = ['LTN_2013.csv', 'LTN_2014.csv', 'LTN_2015.csv', 'LTN_2016.csv', 'LTN_2017.csv', 'LTN_2018.csv']\n",
    "INPUT_PATH = \"D:\\\\Documents\\\\JupyterNB\\\\tese_fgv\\\\dados\\\\dados_tratados\\\\\"\n",
    "INPUT_FILE = INPUT_FILES[5]\n",
    "VNA_FILE = \"VNAHist.csv\"\n",
    "OUTPUT_FILE = \"fwdNominal_\" + INPUT_FILE.split(\".\")[0].split(\"_\")[1] + \".csv\"\n",
    "OUTPUT_FILE_REAL = \"fwdNominalOriginal_\" + INPUT_FILE.split(\".\")[0].split(\"_\")[1] + \".csv\"\n",
    "MONTHS_PGTO_COUPON = [1]\n",
    "listDtVctoFixo = [360, 5*360, 10*360, 20*360]\n",
    "\n",
    "# Importando dados\n",
    "dfPrecos = pd.read_csv(INPUT_PATH + INPUT_FILE, index_col='Dia')"
   ]
  },
  {
   "cell_type": "code",
   "execution_count": 67,
   "metadata": {
    "scrolled": true
   },
   "outputs": [
    {
     "name": "stdout",
     "output_type": "stream",
     "text": [
      "Taxas calculadas com sucesso!\n"
     ]
    }
   ],
   "source": [
    "vcBonds = list(dfPrecos.columns)\n",
    "xGuess = [0.015] * len(vcBonds)\n",
    "outputFwd  = []\n",
    "outputFwdOriginais = []\n",
    "# TESTA SE É O ARQUIVO É DE NTNB (com fluxo de caixa) OU LTN (sem fluxo de caixa)\n",
    "if ('LTN' in INPUT_FILE):\n",
    "    freqCupom = 1\n",
    "elif ('Principal' in INPUT_FILE):\n",
    "    freqCupom = 1\n",
    "else:\n",
    "    freqCupom = 2\n",
    "\n",
    "i_aux = 0 # utilizado para fazer pontos de parada no for\n",
    "\n",
    "# Inicio do calculo das fwds para cada um dos dias\n",
    "# for index, row in dfPrecos.loc['2013-05-05':'2013-05-06'].iterrows():\n",
    "for index, row in dfPrecos.iterrows():\n",
    "    bonds = []\n",
    "    b =[]\n",
    "#     print(index)\n",
    "    \n",
    "    # Inicia a data base e VNA\n",
    "    dtToday = datetime.strptime(index, \"%Y-%m-%d\")\n",
    "    VNA = AtualizaVNA(index)\n",
    "    \n",
    "    for vcBond in vcBonds:\n",
    "        # Cria o dicionário com os preços e vencimentos para cada dia\n",
    "        if datetime.strptime(vcBond, '%d/%m/%Y').strftime('%Y-%m-%d') >= index and not pd.isna((row[vcBond])): # verifica se tem algum bond vencido \n",
    "            bonds.append({'preco':row[vcBond], 'dtVcto':datetime.strptime(vcBond, '%d/%m/%Y').strftime('%Y-%m-%d'),\n",
    "                           'freqCoupon': freqCupom})\n",
    "            b.append(row[vcBond])    \n",
    "#     print(bonds)\n",
    "    # Capturo algumas informações para o calculo das matrizes\n",
    "    dtVctoBond = []\n",
    "    for bond in bonds:\n",
    "        dtVctoBond.append(datetime.strptime(bond['dtVcto'], '%Y-%m-%d'))\n",
    "\n",
    "    maxVcto = max(dtVctoBond)\n",
    "    dayVcto, monthVcto, yearVcto = maxVcto.day, maxVcto.month, maxVcto.year\n",
    "    dayBase, monthBase, yearBase = dtToday.day, dtToday.month, dtToday.year\n",
    "\n",
    "    # Calculo da matriz de cupons e os prazos\n",
    "    mtzCoupon, PzPgtoCupom = CalculaMatriz(dtToday, maxVcto, bonds, MONTHS_PGTO_COUPON, INPUT_FILE)\n",
    "  \n",
    "    # criando o vetor de cupons\n",
    "    vlCupom = ((1 + 0.0)**(0.5) -1) * VNA\n",
    "    arrayvlCupom = [vlCupom] * len(PzPgtoCupom)\n",
    "\n",
    "    mtzPrincipal = CalculaMatrizPrincipal(VNA,PzPgtoCupom, bonds, INPUT_FILE)\n",
    "\n",
    "    # Somando a matriz de cupons e de principais\n",
    "    mtzVlCupom = (arrayvlCupom * mtzCoupon) + mtzPrincipal\n",
    "\n",
    "    # Calculo das fwds para os vctos dos bonds (taxas a.a base 360)\n",
    "#     print(xGuess)\n",
    "    if len(xGuess) > len(bonds):\n",
    "        xGuess = xGuess[0:len(bonds)]\n",
    "    elif len(xGuess) <= len(bonds):\n",
    "        xGuess = [0.05] * len(bonds)\n",
    "    \n",
    "#     print(xGuess)\n",
    "    fwdsOriginais = fsolve(PrecoBondMatrizMin,xGuess)\n",
    "    xGuess = fwdsOriginais\n",
    "    outputFwdOriginais.append(dict(zip(dtVctoBond, fwdsOriginais)))\n",
    "    \n",
    "    # Calculo das fwds para os prazos fixos\n",
    "    fwdFixos = CalculaFwdPzFixo(fwdsOriginais, dtVctoBond, dtToday, listDtVctoFixo)\n",
    "#     print(dict(zip(listDtVctoFixo, fwdFixos)))\n",
    "    outputFwd.append(dict(zip(listDtVctoFixo, fwdFixos)))\n",
    "\n",
    "    i_aux += 1\n",
    "    \n",
    "print(\"Taxas calculadas com sucesso!\")\n"
   ]
  },
  {
   "cell_type": "markdown",
   "metadata": {},
   "source": [
    "### Criar um arquivo de output em csv com data no index e prazos fixos no nome da coluna"
   ]
  },
  {
   "cell_type": "code",
   "execution_count": 68,
   "metadata": {},
   "outputs": [
    {
     "name": "stdout",
     "output_type": "stream",
     "text": [
      "Taxas Fwd Fixas exportadas!\n",
      "Taxas Fwd Originais exportadas!\n"
     ]
    }
   ],
   "source": [
    "dfOutputFwd = pd.DataFrame(outputFwd, index=dfPrecos.index, columns=listDtVctoFixo)\n",
    "dfOutputFwd.index = pd.to_datetime(dfOutputFwd.index)\n",
    "dfOutputFwd.to_csv(INPUT_PATH + OUTPUT_FILE)\n",
    "print(\"Taxas Fwd Fixas exportadas!\")\n",
    "\n",
    "\n",
    "dfOutputFwdOriginais = pd.DataFrame(outputFwdOriginais, index=dfPrecos.index, columns=vcBonds)\n",
    "dfOutputFwdOriginais.index = pd.to_datetime(dfOutputFwdOriginais.index)\n",
    "dfOutputFwdOriginais.to_csv(INPUT_PATH + OUTPUT_FILE_REAL)\n",
    "print(\"Taxas Fwd Originais exportadas!\")"
   ]
  },
  {
   "cell_type": "code",
   "execution_count": null,
   "metadata": {
    "scrolled": true
   },
   "outputs": [],
   "source": [
    "dfOutputFwd = pd.DataFrame(outputFwd, index=dfPrecos.index)\n",
    "dfOutputFwdOriginais = pd.DataFrame(outputFwdOriginais, index=dfPrecos.index)\n",
    "\n",
    "dfOutputFwdOriginais.index = pd.to_datetime(dfOutputFwdOriginais.index)\n",
    "plt.plot(dfOutputFwdOriginais.index.tolist(), dfOutputFwdOriginais)\n",
    "plt.show()\n",
    "# # dfOutputFwd.index.tolist()\n",
    "# dfOutputFwd\n",
    "dfOutputFwdOriginais.describe()\n",
    "dfOutputFwdOriginais"
   ]
  },
  {
   "cell_type": "code",
   "execution_count": null,
   "metadata": {},
   "outputs": [],
   "source": [
    "# outputFwdOriginais\n",
    "# dfOutputFwdOriginais[dfOutputFwdOriginais['15/05/2013'] == -0.235048]\n",
    "# dfOutputFwdOriginais\n",
    "# dfOutputFwd['2013-05-10':'2013-05-16']"
   ]
  },
  {
   "cell_type": "code",
   "execution_count": null,
   "metadata": {
    "scrolled": true
   },
   "outputs": [],
   "source": [
    "dfOutputFwd.index = pd.to_datetime(dfOutputFwd.index)\n",
    "plt.plot(dfOutputFwd.index.tolist(), dfOutputFwd)\n",
    "plt.show()\n",
    "# # dfOutputFwd.index.tolist()\n",
    "# dfOutputFwd\n",
    "dfOutputFwd.describe()\n",
    "dfOutputFwd"
   ]
  },
  {
   "cell_type": "markdown",
   "metadata": {},
   "source": [
    "# PCA das diferenças das curvas"
   ]
  },
  {
   "cell_type": "code",
   "execution_count": null,
   "metadata": {},
   "outputs": [],
   "source": [
    "dfDiff = dfOutputFwd.diff().dropna()\n",
    "dfDiff.shape"
   ]
  },
  {
   "cell_type": "code",
   "execution_count": null,
   "metadata": {},
   "outputs": [],
   "source": [
    "from sklearn.decomposition import PCA\n",
    "sklearn_pca = PCA(n_components=3)\n",
    "Y_sklearn = sklearn_pca.fit_transform(dfDiff)"
   ]
  },
  {
   "cell_type": "code",
   "execution_count": null,
   "metadata": {},
   "outputs": [],
   "source": [
    "Y_sklearn.shape"
   ]
  },
  {
   "cell_type": "code",
   "execution_count": null,
   "metadata": {},
   "outputs": [],
   "source": [
    "sklearn_pca.components_, sklearn_pca.explained_variance_ratio_, sklearn_pca.explained_variance_"
   ]
  },
  {
   "cell_type": "code",
   "execution_count": null,
   "metadata": {},
   "outputs": [],
   "source": [
    "sklearn_pca.components_, sklearn_pca.explained_variance_ratio_\n",
    "features = range(sklearn_pca.n_components_)\n",
    "plt.bar(features, sklearn_pca.explained_variance_ratio_)"
   ]
  },
  {
   "cell_type": "code",
   "execution_count": null,
   "metadata": {},
   "outputs": [],
   "source": []
  },
  {
   "cell_type": "code",
   "execution_count": null,
   "metadata": {},
   "outputs": [],
   "source": [
    "sklearn_pca = PCA(n_components=1)\n",
    "Y_sklearn = sklearn_pca.fit_transform(dfDiff)"
   ]
  },
  {
   "cell_type": "code",
   "execution_count": null,
   "metadata": {},
   "outputs": [],
   "source": [
    "Y_sklearn.shape"
   ]
  },
  {
   "cell_type": "code",
   "execution_count": null,
   "metadata": {},
   "outputs": [],
   "source": [
    "# components_ são os autovetores\n",
    "# \n",
    "sklearn_pca.components_, sklearn_pca.explained_variance_ratio_"
   ]
  },
  {
   "cell_type": "code",
   "execution_count": null,
   "metadata": {},
   "outputs": [],
   "source": [
    "dtVctoBond, fwdsOriginais"
   ]
  },
  {
   "cell_type": "code",
   "execution_count": null,
   "metadata": {},
   "outputs": [],
   "source": [
    "y\n",
    "x2\n",
    "d=[]\n",
    "d.append(dict(zip(y, x2)))\n",
    "d.append(dict(zip(y, x1)))\n",
    "dfd = pd.DataFrame(d)\n",
    "dfd"
   ]
  },
  {
   "cell_type": "code",
   "execution_count": null,
   "metadata": {},
   "outputs": [],
   "source": []
  }
 ],
 "metadata": {
  "kernelspec": {
   "display_name": "Python 3",
   "language": "python",
   "name": "python3"
  },
  "language_info": {
   "codemirror_mode": {
    "name": "ipython",
    "version": 3
   },
   "file_extension": ".py",
   "mimetype": "text/x-python",
   "name": "python",
   "nbconvert_exporter": "python",
   "pygments_lexer": "ipython3",
   "version": "3.6.6"
  }
 },
 "nbformat": 4,
 "nbformat_minor": 2
}
