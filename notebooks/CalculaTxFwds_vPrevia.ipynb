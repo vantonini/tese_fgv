{
 "cells": [
  {
   "cell_type": "markdown",
   "metadata": {},
   "source": [
    "# Caderno de testes e análises"
   ]
  },
  {
   "cell_type": "markdown",
   "metadata": {},
   "source": [
    "## Criação de uma função de interpolação de uma curva de juros a partir dos preços dos títulos"
   ]
  },
  {
   "cell_type": "code",
   "execution_count": 1,
   "metadata": {},
   "outputs": [],
   "source": [
    "from datetime import datetime, timedelta\n",
    "from dateutil.relativedelta import relativedelta\n",
    "import numpy as np\n",
    "import pandas as pd\n",
    "from scipy.optimize import *\n"
   ]
  },
  {
   "cell_type": "markdown",
   "metadata": {},
   "source": [
    "### Criando a função de minimização pelo método não linear\n"
   ]
  },
  {
   "cell_type": "code",
   "execution_count": 26,
   "metadata": {},
   "outputs": [],
   "source": [
    "def PrecoBondMatrizMin(xGuess):\n",
    "    xGuess = list(reversed(xGuess))\n",
    "    DCMat = np.zeros(len(PzPgtoCupom))\n",
    "    for k, bond in enumerate(reversed(bonds)):\n",
    "        DCMat[np.array(PzPgtoCupom) <= (datetime.strptime(bond['dtVcto'], \"%Y-%m-%d\") - dtToday).days] = (1+xGuess[k])\n",
    "    PzMat = np.mat(PzPgtoCupom)/360\n",
    "    DFMat = np.power(DCMat,PzMat)\n",
    "    F = np.sum(np.mat(mtzVlCupom) / DFMat, axis=1) - np.mat(b).T\n",
    "    F = np.asarray(F).reshape(-1)\n",
    "#     print(F,b)\n",
    "    return F\n",
    "\n",
    "######################################################################################################\n",
    "##################################### funcao sem subtrair o preço do bond ############################\n",
    "######################################################################################################\n",
    "\n",
    "def PrecoBondMatriz(xGuess):\n",
    "    xGuess = list(reversed(xGuess))\n",
    "    DCMat = np.zeros(len(PzPgtoCupom))\n",
    "    for k, bond in enumerate(reversed(bonds)):\n",
    "        DCMat[np.array(PzPgtoCupom) <= (datetime.strptime(bond['dtVcto'], \"%Y-%m-%d\") - dtToday).days] = (1+xGuess[k])\n",
    "    PzMat = np.mat(PzPgtoCupom)/360\n",
    "    DFMat = np.power(DCMat,PzMat)\n",
    "    F = np.sum(np.mat(mtzVlCupom) / DFMat, axis=1) # - np.mat(b).T\n",
    "    F = np.asarray(F).reshape(-1)\n",
    "#     print(F,b)\n",
    "    return F\n",
    "\n",
    "######################################################################################################\n",
    "##################################### funcao sem subtrair o preço do bond ############################\n",
    "######################################################################################################\n",
    "\n",
    "def CalculaFwdPzFixo(fwdsOriginais, vctosBonds, dtBase, vctosFixos):\n",
    "    #Calcula o prazo original em DC\n",
    "    fwd = [1] * len(listDtVctoFixo)\n",
    "    for pz in listDtVctoFixo:\n",
    "        for i in range(len(dtVctoBond)):\n",
    "            if pz > (dtVctoBond[i] - dtBase).days:\n",
    "                fwd[listDtVctoFixo.index(pz)] = fwd[listDtVctoFixo.index(pz)] * ((1 + fwdsOriginais[i]) ** (pz/360))\n",
    "            else:\n",
    "                if i == 0:\n",
    "                    fwd[listDtVctoFixo.index(pz)] = fwd[listDtVctoFixo.index(pz)] * ((1 + fwdsOriginais[i]) ** (pz/360))\n",
    "                    break\n",
    "                else:\n",
    "                    fwd[listDtVctoFixo.index(pz)] = fwd[listDtVctoFixo.index(pz)] * (((1 + fwdsOriginais[i -1]) ** (((pz - (dtVctoBond[i-1]- dtBase).days) /360))))\n",
    "                    break\n",
    "    fwd = [x - 1 for x in fwd]\n",
    "    return fwd"
   ]
  },
  {
   "cell_type": "code",
   "execution_count": 17,
   "metadata": {},
   "outputs": [],
   "source": [
    "dir_input = \"D:\\\\Documents\\\\JupyterNB\\\\tese_fgv\\\\dados\\\\dados_tratados\\\\\"\n",
    "MONTHS_PGTO_COUPON = [2, 5, 8, 11]\n",
    "listDtVctoFixo = [30, 90, 360, 720]\n",
    "VNA = [3154.28398]\n",
    "arq_input = 'NTNB_2018.csv'\n",
    "dfPrecos = pd.read_csv(dir_input + arq_input, delim_whitespace = True, index_col='Dia')"
   ]
  },
  {
   "cell_type": "code",
   "execution_count": 39,
   "metadata": {},
   "outputs": [],
   "source": [
    "vcBonds = list(dfPrecos.columns)\n",
    "outputFwd  = []\n",
    "# TESTA SE É O ARQUIVO É DE NTNB (com fluxo de caixa) OU LTN (sem fluxo de caixa)\n",
    "if ('LTN' in arq_input):\n",
    "    freqCupom = 1\n",
    "else:\n",
    "    freqCupom = 2\n",
    "\n",
    "i_aux = 0 # utilizado para fazer pontos de parada no for\n",
    "# Inicio do calculo das fwds para cada um dos dias\n",
    "for index, row in dfPrecos.iterrows():\n",
    "    bonds = []\n",
    "    b =[]\n",
    "    for vcBond in vcBonds:\n",
    "        \n",
    "        # Cria o dicionário com os preços e vencimentos para cada dia\n",
    "        bonds.append({'preco':row[vcBond], 'dtVcto':datetime.strptime(vcBond, '%d/%m/%Y').strftime('%Y-%m-%d'),\n",
    "                           'freqCoupon': freqCupom})\n",
    "        b.append(row[vcBond])    \n",
    "    \n",
    "    # Inicia a data base e VNA\n",
    "    dtToday = datetime.strptime(index, \"%Y-%m-%d\")\n",
    "    VNA = 3154.28398 # preciso criar uma rotina para compilar esses dados\n",
    "\n",
    "    # Capturo algumas informações para o calculo das matrizes\n",
    "    dtVctoBond = []\n",
    "    for bond in bonds:\n",
    "        dtVctoBond.append(datetime.strptime(bond['dtVcto'], '%Y-%m-%d'))\n",
    "\n",
    "    maxVcto = max(dtVctoBond)\n",
    "    dayVcto, monthVcto, yearVcto = maxVcto.day, maxVcto.month, maxVcto.year\n",
    "    dayBase, monthBase, yearBase = dtToday.day, dtToday.month, dtToday.year\n",
    "\n",
    "    # Calculo da matriz de cupons\n",
    "    PzPgtoCupom = []\n",
    "    mtzCoupon = []\n",
    "    for year in range(dtToday.year, maxVcto.year + 1, 1):\n",
    "        for month in MONTHS_PGTO_COUPON:\n",
    "            if (datetime(year, month, 15) > dtToday and datetime(year, month, 15) <= maxVcto):\n",
    "                PzPgtoCupom.append((datetime(year, month, 15) - dtToday).days)\n",
    "                vetorCoupon = []\n",
    "                for bond in bonds:\n",
    "                    bondPmtMonths = [(datetime.strptime(bond['dtVcto'], '%Y-%m-%d') \n",
    "                                     + relativedelta(months=+(int(12/bond['freqCoupon']) * i))).month \n",
    "                                     for i in range(0, bond['freqCoupon'])]\n",
    "                    if (month in bondPmtMonths) and datetime(year, month, 15) <= (datetime.strptime(bond['dtVcto'], '%Y-%m-%d')):\n",
    "                        vetorCoupon.append(1)\n",
    "                    else:\n",
    "                        vetorCoupon.append(0)\n",
    "                mtzCoupon.append(vetorCoupon)\n",
    "    mtzCoupon = np.transpose(mtzCoupon)\n",
    "    \n",
    "    # criando o vetor de cupons\n",
    "    vlCupom = ((1 + 0.06)**(0.5) -1) * VNA\n",
    "    arrayvlCupom = [vlCupom] * len(PzPgtoCupom)\n",
    "\n",
    "    # criando a matriz de principais\n",
    "    mtzPrincipal = []\n",
    "    for k, bond in enumerate(bonds):\n",
    "        mtzPrincipal.append(VNA * (np.array(PzPgtoCupom) == (datetime.strptime(bond['dtVcto'], \"%Y-%m-%d\") - dtToday).days))\n",
    "\n",
    "    # Somando a matriz de cupons e de principais\n",
    "    mtzVlCupom = (arrayvlCupom * mtzCoupon) + mtzPrincipal\n",
    "\n",
    "    # Calculo das fwds para os vctos dos bonds\n",
    "    xGuess = [0.1] * len(bonds)\n",
    "    fwdsOriginais = fsolve(PrecoBondMatrizMin,xGuess)\n",
    "#     print(fwdsOriginais)\n",
    "    \n",
    "    # Calculo das fwds para os prazos fixos\n",
    "    fwdFixos = CalculaFwdPzFixo(fwdsOriginais, dtVctoBond, dtToday, listDtVctoFixo)\n",
    "#     print(fwdFixos)\n",
    "    outputFwd.append(fwdFixos)\n",
    "\n",
    "#     if i_aux == 5:\n",
    "#         break\n",
    "    i_aux += 1\n"
   ]
  },
  {
   "cell_type": "markdown",
   "metadata": {},
   "source": [
    "### Criar um arquivo de output em csv com data no index e prazos fixos no nome da coluna"
   ]
  },
  {
   "cell_type": "code",
   "execution_count": 42,
   "metadata": {},
   "outputs": [],
   "source": [
    "dfOutputFwd = pd.DataFrame(outputFwd, index=dfPrecos.index, columns=listDtVctoFixo)\n",
    "dfOutputFwd.to_csv(dir_input + \"fwdReal_2018.csv\")"
   ]
  }
 ],
 "metadata": {
  "kernelspec": {
   "display_name": "Python 3",
   "language": "python",
   "name": "python3"
  },
  "language_info": {
   "codemirror_mode": {
    "name": "ipython",
    "version": 3
   },
   "file_extension": ".py",
   "mimetype": "text/x-python",
   "name": "python",
   "nbconvert_exporter": "python",
   "pygments_lexer": "ipython3",
   "version": "3.6.6"
  }
 },
 "nbformat": 4,
 "nbformat_minor": 2
}
